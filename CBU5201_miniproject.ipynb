{
 "cells": [
  {
   "cell_type": "markdown",
   "id": "df781ed1",
   "metadata": {},
   "source": [
    "# Prediction of story authenticity based on audio characteristics"
   ]
  },
  {
   "cell_type": "markdown",
   "id": "9362ff84",
   "metadata": {},
   "source": [
    "<!-- All the outputs are shown. The path of the data should change if you want to run the code. -->"
   ]
  },
  {
   "cell_type": "markdown",
   "id": "07d10517",
   "metadata": {},
   "source": [
    "--------------------------------------There are some explanations to the project --------------------------------------------"
   ]
  },
  {
   "cell_type": "markdown",
   "id": "894ab2a1",
   "metadata": {},
   "source": [
    "<u>"
   ]
  },
  {
   "cell_type": "markdown",
   "id": "0b03b53e",
   "metadata": {},
   "source": [
    "**1.All the outputs have shown clearly in the following article.**<br>\n",
    "**2.The path of the data has to be changed if you want to run the code.**<br>\n",
    "**3.I have successfully deployed the project on *github*. The url: https://github.com/Jennifer-winn/CBU5201_machinelearning/tree/master**\n",
    "    <br>ps: I have also deployed my personal website based on the repository of github ><. It's an interesting project too. And if you are interested in it, it's really my pleassure to discuss with you.(https://9jennifer.com/)"
   ]
  },
  {
   "cell_type": "markdown",
   "id": "6cdb2265",
   "metadata": {},
   "source": [
    "# 1 Author\n",
    "\n",
    "**Student Name**:  Yiming Xia\n",
    "\n",
    "**Student ID**:  221165843\n"
   ]
  },
  {
   "cell_type": "markdown",
   "id": "a6b9de9e",
   "metadata": {},
   "source": [
    "# 2 Problem formulation\n",
    "\n",
    "### **Problem**\n",
    "The aim of this mini-project is to predict the truthfulness of narrated stories based solely on audio recordings. To achieve this, you'll develop a machine learning model that classifies a story as either true or false, using 3-5 minute audio samples as input. This task combines aspects of natural language processing, audio signal processing, and machine learning to address a complex problem of deception detection.\n",
    "\n",
    "### **Why interesting?**\n",
    "\n",
    "1. **data source** : We create the dataset by ourselves. It's interesting to process and analyze the audio data especially created by ourselves.\n",
    "2. **Challenge**: This question lies at the intersection of linguistics, psychology, and data science.\n",
    "3. **Practical Applications**: Potential use cases is wide.For example, security screenings, testimonial verification, and automated interviews in HR settings can use this.\n",
    "\n"
   ]
  },
  {
   "cell_type": "markdown",
   "id": "d5e1c4a8",
   "metadata": {},
   "source": [
    "# 3 Methodology\n",
    "\n",
    "##  1) Training task\n",
    "### Step 1: **Data Preparation**\n",
    "*    **Data colloction:** Import the data from the github to the jupyter notebook.\n",
    "*    **Data preprocessing:** Preprocess the data by Converting audio files to a uniform sampling rate (e.g., 16kHz) and normalizing the audio to ensure the volume levels are within a certain range.\n",
    "\n",
    "### Step 2: **Feature Extraction**\n",
    "Use the `librosa` library to extract key audio features. Each audio sample generates a feature vector for subsequent model training.\n",
    " - **MFCC (Mel-frequency cepstral coefficients):** This is a common audio feature that represents the energy of sounds across different frequencies.\n",
    " - **Chroma Features:** These represent the distribution of different pitches in the audio, commonly used to capture harmonic information.\n",
    " - **Spectral Contrast:** Measures the flatness of the spectrum, helping to identify clarity in speech.\n",
    " - **Tonnetz Features:** Reflect the harmonic characteristics of the audio, further aiding in classification.\n",
    "\n",
    "### Step 3: **Feature Extraction**\n",
    "The present model presents not well. To enhance model robustness, introduce data augmentation techniques. These operations can create new audio samples, enriching the training data and helping the model learn a broader range of features.\n",
    "- **Time Stretching:** Change the playback speed of the audio without altering the pitch.\n",
    "- **Pitch Shifting:** Adjust the audio samples within different frequency ranges to simulate variations in speakers or audio quality.\n",
    "\n",
    "### Step 4: **Dimensionality Reduction**\n",
    "After feature extraction, a high-dimensional feature space may result. To reduce computational complexity, use PCA (Principal Component Analysis):\n",
    "- Extract principal components to reduce the number of features while retaining most of the information in the data. This helps improve the speed and effectiveness of model training.\n",
    "\n",
    "\n",
    "### Step 5: **Model Training**\n",
    "   - **Model Selection:** Choose various machine learning algorithms for training, including:\n",
    "     - **Random Forest:** Classifies by aggregating multiple decision trees.\n",
    "     - **Support Vector Machine (SVM):** Finds the optimal hyperplane for classification, suitable for high-dimensional data.\n",
    "     - **Multilayer Perceptron (MLP):** A neural network model that captures non-linear features in the data.\n",
    "   - **Hyperparameter Tuning:** Optimize model parameters using cross-validation and grid search methods to enhance performance. During this process, evaluate each model's performance and select the best set of hyperparameters.\n",
    "\n",
    "\n",
    "### Step 6: **Training Process Monitoring**\n",
    "   - Monitor the performance of each model during training, including training loss and accuracy.\n",
    "   - Based on feedback from the validation set, dynamically adjust training strategies to prevent overfitting."
   ]
  },
  {
   "cell_type": "markdown",
   "id": "8f969676",
   "metadata": {},
   "source": [
    "\n",
    "##  2) Validation task\n",
    "\n",
    "### Methodology for Validation Tasks\n",
    "\n",
    "Validation tasks are an essential part of the machine learning workflow, ensuring that models perform well on unseen data. Below is a systematic methodology for effective validation tasks:\n",
    "\n",
    "### STEP 1. Data Splitting\n",
    "\n",
    "**Objective**: Split the dataset into training and testing sets to assess the model's generalization ability.\n",
    "\n",
    "- **Method**:\n",
    "  - Use the `train_test_split` function to divide the dataset into training (e.g., 80%) and testing (e.g., 20%) sets.\n",
    "  - The training set is used for model training, while the testing set is reserved for performance validation.\n",
    "\n",
    "- **Considerations**: Ensure that the distribution of classes is balanced in both training and testing sets to avoid class imbalance issues.\n",
    "\n",
    "### STEP 2. Model Training\n",
    "\n",
    "**Objective**: Train the model on the training set.\n",
    "\n",
    "- **Method**:\n",
    "  - Select an appropriate model (e.g., Random Forest, Support Vector Machine, etc.).\n",
    "  - Fit the model using the training data and adjust parameters to suit the dataset.\n",
    "\n",
    "- **Validation**: While it is advisable to assess stability through cross-validation, the fundamental training process should guarantee convergence.\n",
    "\n",
    "### STEP 3. Prediction and Evaluation\n",
    "\n",
    "**Objective**: Evaluate the model's performance using the testing set.\n",
    "\n",
    "- **Method**:\n",
    "  - Use the trained model to make predictions on the testing set.\n",
    "  - Calculate the model's accuracy and generate a confusion matrix and classification report to assess precision, recall, and F1-score for each class.\n",
    "\n",
    "- **Metrics**:\n",
    "  - **Accuracy**: The proportion of correct predictions among the total predictions.\n",
    "  - **Confusion Matrix**: A visual representation of the relationship between predicted results and actual labels.\n",
    "  - **Classification Report**: A detailed overview of performance metrics for each class, helping identify strengths and weaknesses of the model.\n",
    "\n",
    "### STEP 4. Multi-Model Comparison\n",
    "\n",
    "**Objective**: Assess the performance of various models to select the best one.\n",
    "\n",
    "- **Method**:\n",
    "  - Train multiple models (e.g., Random Forest, Support Vector Machine, Neural Networks) and evaluate their performance.\n",
    "  - Compare metrics such as accuracy, confusion matrix, and other relevant indicators to select the best model for deployment.\n",
    "\n",
    "### STEP 5. Hyperparameter Tuning\n",
    "\n",
    "**Objective**: Enhance the model's performance by tuning hyperparameters.\n",
    "\n",
    "- **Method**:\n",
    "  - Define a grid of hyperparameters (e.g., number of trees, maximum depth).\n",
    "  - Conduct a systematic search for optimal hyperparameters using techniques like grid search (`GridSearchCV`).\n",
    "\n",
    "- **Validation**: Re-evaluate the model's performance on the testing set under the selected hyperparameters.\n",
    "\n",
    "### STEP 6. Error Analysis\n",
    "\n",
    "**Objective**: Analyze misclassified samples to identify areas for improvement in the model.\n",
    "\n",
    "- **Method**:\n",
    "  - Extract all instances where the predictions did not match the actual labels and examine their features.\n",
    "  - Identify weaknesses or ambiguities in the model regarding specific samples to determine if additional data, feature optimization, or refined decision boundaries are necessary.\n",
    "\n",
    "- **Improvement Directions**:\n",
    "  - Increase the sample size, especially for those near the decision boundary.\n",
    "  - Experiment with different model architectures or feature engineering techniques.\n",
    "\n",
    "### STEP 7. Final Model Saving and Deployment\n",
    "\n",
    "**Objective**: Save the trained model in a reusable format for future use.\n",
    "\n",
    "- **Method**:\n",
    "  - Use libraries like `joblib` to save the trained model for easy access and deployment.\n",
    "\n",
    "- **Validation**: Ensure that the saved model can be loaded and utilized for predictions, confirming its usability.\n"
   ]
  },
  {
   "cell_type": "markdown",
   "id": "5edc0b3c",
   "metadata": {},
   "source": [
    "## 3) Model Performance\n",
    "\n",
    "In the context of evaluating machine learning model performance, several metrics and visualizations are commonly used. The following sections detail how model performance is defined and measured, specifically in relation to the code you provided.\n",
    "\n",
    "### 1. Accuracy\n",
    "\n",
    "**Definition**: Accuracy is the simplest metric used to evaluate a model's performance. It measures the proportion of correct predictions made by the model out of the total predictions.\n",
    "\n",
    "**Formula**:\n",
    "$\\text{Accuracy} = \\frac{\\text{Number of Correct Predictions}}{\\text{Total Number of Predictions}} \\times 100\\%$\n",
    "\n",
    "**Code Implementation**:\n",
    "```python\n",
    "# Calculate accuracy\n",
    "accuracy = accuracy_score(y_test, y_pred)\n",
    "print(f\"模型准确率: {accuracy:.2f}\")\n",
    "```\n",
    "- **Description**: Here, `accuracy_score` computes the accuracy by comparing the true labels (`y_test`) with the predicted labels (`y_pred`). The result is printed out, showing the percentage of correct predictions.\n",
    "\n",
    "### 2. Confusion Matrix\n",
    "\n",
    "**Definition**: A confusion matrix provides a detailed breakdown of the model's predictions compared to the true labels. It allows you to see not only the correctness of the predictions but also where the model is making mistakes.\n",
    "\n",
    "**Structure**:\n",
    "A confusion matrix typically has the following structure for a binary classification problem:\n",
    "\n",
    "| Actual \\ Predicted | True (1) | False (0) |\n",
    "|---------------------|----------|-----------|\n",
    "| True (1)            | TP       | FN        |\n",
    "| False (0)           | FP       | TN        |\n",
    "\n",
    "- **TP** (True Positive): Correctly predicted positive cases.\n",
    "- **TN** (True Negative): Correctly predicted negative cases.\n",
    "- **FP** (False Positive): Incorrectly predicted positive cases.\n",
    "- **FN** (False Negative): Incorrectly predicted negative cases.\n",
    "\n",
    "**Code Implementation**:\n",
    "```python\n",
    "# Calculate the confusion matrix\n",
    "cm = confusion_matrix(y_test, y_pred)\n",
    "disp = ConfusionMatrixDisplay(confusion_matrix=cm, display_labels=[\"False Story\", \"True Story\"])\n",
    "disp.plot()\n",
    "plt.title(\"Confusion Matrix\")\n",
    "plt.show()\n",
    "```\n",
    "- **Description**: The `confusion_matrix` function computes the confusion matrix based on the true labels and predicted labels. `ConfusionMatrixDisplay` is then used to visualize this matrix, where axes represent the actual classifications and the predicted classifications.\n",
    "\n",
    "### 3. Classification Report\n",
    "\n",
    "**Definition**: The classification report provides a comprehensive evaluation of a classification model's performance by calculating precision, recall, F1-score, and support for each class.\n",
    "\n",
    "- **Precision**: The ratio of true positive predictions to the total predicted positives:\n",
    "  $\n",
    "  \\text{Precision} = \\frac{TP}{TP + FP} \\times 100\\%\n",
    "  $\n",
    "  \n",
    "- **Recall**: The ratio of true positive predictions to the total actual positives:\n",
    "  $\n",
    "  \\text{Recall} = \\frac{TP}{TP + FN} \\times 100\\%\n",
    "  $\n",
    "\n",
    "- **F1-Score**: The harmonic mean of precision and recall, providing a balance between the two:\n",
    "  $\n",
    "    F1 = 2 \\times \\frac{\\text{Precision} \\times \\text{Recall}}{\\text{Precision} + \\text{Recall}}\n",
    "  $\n",
    "\n",
    "- **Support**: The number of occurrences of each class in the true labels.\n",
    "\n",
    "**Code Implementation**:\n",
    "```python\n",
    "# Classification report\n",
    "print(\"SVM分类报告：\")\n",
    "print(classification_report(y_test, svm_pred))\n",
    "```\n",
    "- **Description**: The `classification_report` function computes precision, recall, F1-score, and support for each class. This report gives a clear indication of how well the model is performing across different classes.\n"
   ]
  },
  {
   "cell_type": "markdown",
   "id": "837c90ef",
   "metadata": {},
   "source": [
    "## 4）Other tasks\n",
    "\n",
    "\n",
    " **Model Selection**: Try multiple algorithms to find the best fit for the dataset.\n",
    "\n",
    " **Cross-Validation**: Use K-fold cross-validation to assess model stability.\n",
    "\n",
    " **Hyperparameter Tuning**: Optimize model parameters through grid search or random search.\n",
    " \n",
    "**Error Analysis**: Analyze misclassifications to guide further improvements.\n",
    "\n",
    "**Documentation**: Maintain records of experiments and results for future reference and reproducibility."
   ]
  },
  {
   "cell_type": "markdown",
   "id": "b74f615c",
   "metadata": {},
   "source": [
    "# 4 Implemented ML prediction pipelines"
   ]
  },
  {
   "cell_type": "markdown",
   "id": "4a62b78f",
   "metadata": {},
   "source": [
    "#### 4.0 Overview of the ML Prediction Pipeline\n",
    "In this project, we will build a machine learning prediction pipeline to process the MLEnd Deception Dataset and identify real versus fictional stories. Below is the overall design of this machine learning prediction pipeline, including inputs, outputs, and a detailed description of each stage.\n",
    "#### Inputs\n",
    "- **Dataset**: `extended_audio_features.csv` or `augmented_audio_features.csv`, which contains the extracted features from audio files along with corresponding story type labels.\n",
    "- **Features**: Multiple feature columns, including MFCC, Chroma, Spectral Contrast, and Tonnetz, among others.\n",
    "- **Labels**: Binary classification labels, where 0 represents \"Fictional Story\" and 1 represents \"Real Story.\"\n",
    "\n",
    "#### Outputs\n",
    "- **Model Prediction Results**: The predictions made by the model for the test set, including predicted labels and class probabilities for each sample.\n",
    "- **Evaluation Metrics**: Accuracy, precision, recall, F1-score, and other relevant metrics for assessing model performance.\n",
    "\n",
    "#### Intermediate Data Structures\n",
    "In various stages of the pipeline, the following data structures will be used for data transformations:\n",
    "- **DataFrame**: Used for storing the original data read from CSV, extracted features, and model prediction results. We will use `pandas` DataFrame for data processing.\n",
    "- **Feature Array** (e.g., NumPy arrays): Convert the feature data into NumPy array format when inputting into the machine learning models.\n",
    "- **Confusion Matrix**: An intermediate data structure used to visualize model performance, facilitating analysis of prediction results.\n",
    "\n",
    "#### 4.1 Transformation Stage\n",
    "The goal of this stage is to preprocess the input data and extract features. It includes the following steps:\n",
    "- **Data Loading**: Read the audio features and corresponding labels from the CSV file.\n",
    "- **Data Verification**: Ensure that the audio files exist and check for missing values.\n",
    "- **Feature Extraction**:\n",
    "  - Extract features such as MFCC, Chroma, and Spectral Contrast using `librosa`.\n",
    "  - Organize all extracted features into a DataFrame and save them as a CSV file.\n",
    "\n",
    "#### 4.2 Model Stage\n",
    "The main task of this stage is to train and evaluate models. We will explore multiple models to compare performance, including Random Forest, Support Vector Machine (SVM), Multi-layer Perceptron (MLP), and XGBoost. Key steps include:\n",
    "- **Splitting Training and Validation Sets**: Use `train_test_split` to randomly divide the data into training and validation sets.\n",
    "- **Model Training**: Train different models and generate prediction results.\n",
    "- **Model Evaluation**: Compute accuracy, precision, recall, and F1-score among other metrics.\n",
    "\n",
    "#### 4.3 Ensemble Stage\n",
    "In this stage, we will integrate the predictions from different models to enhance the overall prediction performance. This can be done through a voting mechanism (hard voting). Key steps include:\n",
    "- **Collecting Predictions from Models**.\n",
    "- **Weighted Voting**: Making final predictions based on a weighted voting system according to each model's performance.\n"
   ]
  },
  {
   "cell_type": "markdown",
   "id": "eb758762",
   "metadata": {},
   "source": [
    "# 5 Dataset"
   ]
  },
  {
   "cell_type": "markdown",
   "id": "05962de5",
   "metadata": {},
   "source": [
    "##### In this project, we created multiple subdatasets based on MLEnd Deception Dataset to train and evaluate the model.\n",
    "- Training Set(train_data): **80%** of the samples in the data set.Story types are coded as 0 (fictional story) and 1 (true story)\n",
    "- Validation Set(val_data): **20%** of the samples in the data set.Story types are coded as 0 (fictional story) and 1 (true story)"
   ]
  },
  {
   "cell_type": "markdown",
   "id": "7f819195",
   "metadata": {},
   "source": [
    "### 2. Dataset Construction\n",
    "The training and validation sets are constructed through the following steps:\n",
    "\n",
    "1. **Load Data**: Use `pandas` to load `CBU0521DD_stories_attributes.csv` file.\n",
    "2. **Check Audio Files**: Ensure all audio files in the `audio_path` directory exist.\n",
    "3. **Feature Extraction**:\n",
    "   - Extract audio features such as MFCC, Chroma, and Spectral Contrast using `librosa`, and save them to CSV files (e.g., `audio_features.csv` and `extended_audio_features.csv`).\n",
    "4. **Data Splitting**:\n",
    "   - Use the `sklearn.model_selection.train_test_split` function to randomly split the samples into training and validation sets, setting `test_size=0.2` to reserve 20% for the validation set.\n",
    "5. **Ensure Independence and IID**: By randomly splitting the samples, we ensure the samples in each dataset are independently and identically distributed (IID) without overlap.\n"
   ]
  },
  {
   "cell_type": "markdown",
   "id": "ed6ef956c6252289",
   "metadata": {
    "collapsed": false
   },
   "source": [
    "### Load and check data"
   ]
  },
  {
   "cell_type": "code",
   "execution_count": 12,
   "id": "initial_id",
   "metadata": {
    "ExecuteTime": {
     "end_time": "2024-12-24T00:45:04.964304Z",
     "start_time": "2024-12-24T00:45:03.086618Z"
    },
    "collapsed": true
   },
   "outputs": [
    {
     "name": "stdout",
     "output_type": "stream",
     "text": [
      "总文件数: 100\n",
      "缺失文件数: 0\n"
     ]
    }
   ],
   "source": [
    "import os\n",
    "import pandas as pd\n",
    "\n",
    "# 加载CSV文件\n",
    "csv_file_path = 'CBU0521DD_stories_attributes.csv'\n",
    "data = pd.read_csv(csv_file_path)\n",
    "\n",
    "# 定义音频文件路径\n",
    "audio_path = \"CBU0521DD_stories\"\n",
    "\n",
    "# 检查是否所有音频文件都存在\n",
    "data['exists'] = data['filename'].apply(lambda x: os.path.exists(os.path.join(audio_path, x)))\n",
    "\n",
    "# 检查缺失文件\n",
    "missing_files = data[data['exists'] == False]\n",
    "\n",
    "# 输出检查结果\n",
    "print(f\"总文件数: {len(data)}\")\n",
    "print(f\"缺失文件数: {len(missing_files)}\")\n",
    "if len(missing_files) > 0:\n",
    "    print(\"缺失的文件列表:\")\n",
    "    print(missing_files['filename'].to_list())"
   ]
  },
  {
   "cell_type": "markdown",
   "id": "684b9978bb281eef",
   "metadata": {
    "collapsed": false
   },
   "source": [
    "### **Feature Extraction:** \n",
    "\n",
    "- >  Using `librosa`, the audio data undergoes a transformation where key audio features such as MFCCs, chroma features, spectral contrast, and tonnetz are extracted. This process forms the basis of your feature set."
   ]
  },
  {
   "cell_type": "code",
   "execution_count": 16,
   "id": "239212b1",
   "metadata": {},
   "outputs": [
    {
     "name": "stdout",
     "output_type": "stream",
     "text": [
      "Requirement already satisfied: librosa in d:\\software_final\\anaconda\\lib\\site-packages (0.10.2.post1)\n",
      "Requirement already satisfied: numpy in d:\\software_final\\anaconda\\lib\\site-packages (1.26.4)\n",
      "Requirement already satisfied: tqdm in d:\\software_final\\anaconda\\lib\\site-packages (4.66.4)\n",
      "Requirement already satisfied: audioread>=2.1.9 in d:\\software_final\\anaconda\\lib\\site-packages (from librosa) (3.0.1)\n",
      "Requirement already satisfied: scipy>=1.2.0 in d:\\software_final\\anaconda\\lib\\site-packages (from librosa) (1.13.1)\n",
      "Requirement already satisfied: scikit-learn>=0.20.0 in d:\\software_final\\anaconda\\lib\\site-packages (from librosa) (1.4.2)\n",
      "Requirement already satisfied: joblib>=0.14 in d:\\software_final\\anaconda\\lib\\site-packages (from librosa) (1.4.2)\n",
      "Requirement already satisfied: decorator>=4.3.0 in c:\\users\\xiayi\\appdata\\roaming\\python\\python312\\site-packages (from librosa) (5.1.1)\n",
      "Requirement already satisfied: numba>=0.51.0 in d:\\software_final\\anaconda\\lib\\site-packages (from librosa) (0.59.1)\n",
      "Requirement already satisfied: soundfile>=0.12.1 in d:\\software_final\\anaconda\\lib\\site-packages (from librosa) (0.12.1)\n",
      "Requirement already satisfied: pooch>=1.1 in d:\\software_final\\anaconda\\lib\\site-packages (from librosa) (1.8.2)\n",
      "Requirement already satisfied: soxr>=0.3.2 in d:\\software_final\\anaconda\\lib\\site-packages (from librosa) (0.5.0.post1)\n",
      "Requirement already satisfied: typing-extensions>=4.1.1 in d:\\software_final\\anaconda\\lib\\site-packages (from librosa) (4.12.2)\n",
      "Requirement already satisfied: lazy-loader>=0.1 in d:\\software_final\\anaconda\\lib\\site-packages (from librosa) (0.4)\n",
      "Requirement already satisfied: msgpack>=1.0 in d:\\software_final\\anaconda\\lib\\site-packages (from librosa) (1.1.0)\n",
      "Requirement already satisfied: colorama in c:\\users\\xiayi\\appdata\\roaming\\python\\python312\\site-packages (from tqdm) (0.4.6)\n",
      "Requirement already satisfied: packaging in d:\\software_final\\anaconda\\lib\\site-packages (from lazy-loader>=0.1->librosa) (23.2)\n",
      "Requirement already satisfied: llvmlite<0.43,>=0.42.0dev0 in d:\\software_final\\anaconda\\lib\\site-packages (from numba>=0.51.0->librosa) (0.42.0)\n",
      "Requirement already satisfied: platformdirs>=2.5.0 in c:\\users\\xiayi\\appdata\\roaming\\python\\python312\\site-packages (from pooch>=1.1->librosa) (4.2.0)\n",
      "Requirement already satisfied: requests>=2.19.0 in d:\\software_final\\anaconda\\lib\\site-packages (from pooch>=1.1->librosa) (2.32.2)\n",
      "Requirement already satisfied: threadpoolctl>=2.0.0 in d:\\software_final\\anaconda\\lib\\site-packages (from scikit-learn>=0.20.0->librosa) (2.2.0)\n",
      "Requirement already satisfied: cffi>=1.0 in d:\\software_final\\anaconda\\lib\\site-packages (from soundfile>=0.12.1->librosa) (1.16.0)\n",
      "Requirement already satisfied: pycparser in d:\\software_final\\anaconda\\lib\\site-packages (from cffi>=1.0->soundfile>=0.12.1->librosa) (2.21)\n",
      "Requirement already satisfied: charset-normalizer<4,>=2 in d:\\software_final\\anaconda\\lib\\site-packages (from requests>=2.19.0->pooch>=1.1->librosa) (2.0.4)\n",
      "Requirement already satisfied: idna<4,>=2.5 in d:\\software_final\\anaconda\\lib\\site-packages (from requests>=2.19.0->pooch>=1.1->librosa) (3.7)\n",
      "Requirement already satisfied: urllib3<3,>=1.21.1 in d:\\software_final\\anaconda\\lib\\site-packages (from requests>=2.19.0->pooch>=1.1->librosa) (2.2.2)\n",
      "Requirement already satisfied: certifi>=2017.4.17 in d:\\software_final\\anaconda\\lib\\site-packages (from requests>=2.19.0->pooch>=1.1->librosa) (2024.6.2)\n"
     ]
    }
   ],
   "source": [
    "! pip install librosa numpy tqdm\n"
   ]
  },
  {
   "cell_type": "code",
   "execution_count": 17,
   "id": "d8d3e0748f6624dc",
   "metadata": {
    "ExecuteTime": {
     "end_time": "2024-12-24T00:49:56.922372Z",
     "start_time": "2024-12-24T00:49:07.049949Z"
    },
    "collapsed": false
   },
   "outputs": [
    {
     "name": "stderr",
     "output_type": "stream",
     "text": [
      "Extracting features: 100%|██████████| 100/100 [00:50<00:00,  1.98it/s]"
     ]
    },
    {
     "name": "stdout",
     "output_type": "stream",
     "text": [
      "特征提取完成，保存到 audio_features.csv\n"
     ]
    },
    {
     "name": "stderr",
     "output_type": "stream",
     "text": [
      "\n"
     ]
    }
   ],
   "source": [
    "import librosa\n",
    "import numpy as np\n",
    "from tqdm import tqdm\n",
    "\n",
    "# 定义特征提取函数\n",
    "def extract_features(file_path):\n",
    "    try:\n",
    "        audio, sr = librosa.load(file_path, sr=None)  # 加载音频\n",
    "        mfcc = librosa.feature.mfcc(y=audio, sr=sr, n_mfcc=13)  # 提取MFCC特征\n",
    "        mfcc_mean = np.mean(mfcc, axis=1)  # 平均值作为最终特征\n",
    "        return mfcc_mean\n",
    "    except Exception as e:\n",
    "        print(f\"Error processing {file_path}: {e}\")\n",
    "        return None\n",
    "\n",
    "# 提取所有音频文件的特征\n",
    "features = []\n",
    "for filename in tqdm(data['filename'], desc=\"Extracting features\"):\n",
    "    file_path = os.path.join(audio_path, filename)\n",
    "    features.append(extract_features(file_path))\n",
    "\n",
    "# 将特征转为DataFrame\n",
    "features_df = pd.DataFrame(features)\n",
    "features_df.columns = [f'mfcc_{i+1}' for i in range(features_df.shape[1])]\n",
    "\n",
    "# 合并特征和标签\n",
    "data_with_features = pd.concat([data.reset_index(drop=True), features_df], axis=1)\n",
    "\n",
    "# 保存提取的特征数据\n",
    "data_with_features.to_csv(\"audio_features.csv\", index=False)\n",
    "\n",
    "print(\"特征提取完成，保存到 audio_features.csv\")\n"
   ]
  },
  {
   "cell_type": "markdown",
   "id": "f3a146f7",
   "metadata": {},
   "source": [
    "### 4. Data Visualization\n",
    "While constructing the datasets, we can visualize the distribution and features to gain a more intuitive understanding of the dataset's structure."
   ]
  },
  {
   "cell_type": "code",
   "execution_count": 1,
   "id": "b1b9dbb2",
   "metadata": {},
   "outputs": [
    {
     "data": {
      "image/png": "[encoded data removed]",
      "text/plain": [
       "<Figure size 1200x600 with 1 Axes>"
      ]
     },
     "metadata": {},
     "output_type": "display_data"
    }
   ],
   "source": [
    "import pandas as pd\n",
    "import seaborn as sns\n",
    "import matplotlib.pyplot as plt\n",
    "\n",
    "# Load feature data\n",
    "data_with_features = pd.read_csv(\"extended_audio_features.csv\")\n",
    "\n",
    "# Visualize the distribution of each feature\n",
    "plt.figure(figsize=(12, 6))\n",
    "sns.histplot(data=data_with_features, x='mfcc_1', hue='Story_type', multiple='stack', kde=True)\n",
    "plt.title(\"Distribution of MFCC_1 Across Different Story Types\")\n",
    "plt.xlabel(\"MFCC_1\")\n",
    "plt.ylabel(\"Sample Count\")\n",
    "plt.show()\n"
   ]
  },
  {
   "cell_type": "markdown",
   "metadata": {},
   "source": [
    "# 6 Experiments and results"
   ]
  },
  {
   "cell_type": "markdown",
   "id": "5335a84c",
   "metadata": {},
   "source": [
    "### 6.2.1 Model 1(very basic one)"
   ]
  },
  {
   "cell_type": "markdown",
   "id": "13d058f7c582dcfd",
   "metadata": {
    "collapsed": false
   },
   "source": [
    "### Data partitioning and model training\n",
    "\n",
    "- Inputs: The input includes audio feature data from a CSV file and the corresponding labels for classification.\n",
    "- Outputs: The outputs include the model's accuracy score and a visual representation of the confusion matrix, helping to understand the model's performance in terms of correctly and incorrectly classified instances.\n",
    "- Reason(for choose random forest):\n",
    "   - Random Forest is an ensemble learning method that constructs multiple decision trees and averages their outputs, often achieving better predictive performance than a single tree. This combination reduces overfitting and improves the accuracy and stability of the model.\n",
    "   - It can effectively handle datasets with a large number of features (high-dimensional data). In audio feature extraction (e.g., MFCC), many features are often generated, and Random Forest can effectively deal with this while identifying useful information."
   ]
  },
  {
   "cell_type": "code",
   "execution_count": 18,
   "id": "22f1ffee484dea93",
   "metadata": {
    "ExecuteTime": {
     "end_time": "2024-12-24T00:51:24.531944Z",
     "start_time": "2024-12-24T00:51:22.024447Z"
    },
    "collapsed": false
   },
   "outputs": [
    {
     "name": "stdout",
     "output_type": "stream",
     "text": [
      "模型准确率: 0.40\n"
     ]
    },
    {
     "data": {
      "image/png": "[encoded data removed]",
      "text/plain": [
       "<Figure size 640x480 with 2 Axes>"
      ]
     },
     "metadata": {},
     "output_type": "display_data"
    }
   ],
   "source": [
    "from sklearn.model_selection import train_test_split\n",
    "from sklearn.ensemble import RandomForestClassifier\n",
    "from sklearn.metrics import accuracy_score, confusion_matrix, ConfusionMatrixDisplay\n",
    "import matplotlib.pyplot as plt\n",
    "\n",
    "# 加载特征数据\n",
    "data = pd.read_csv(\"audio_features.csv\")\n",
    "\n",
    "# 划分特征(X)和标签(y)\n",
    "X = data[[col for col in data.columns if col.startswith('mfcc_')]]\n",
    "y = data['Story_type'].apply(lambda x: 1 if x == 'True Story' else 0)  # 将标签编码为0/1\n",
    "\n",
    "# 划分训练集和测试集\n",
    "X_train, X_test, y_train, y_test = train_test_split(X, y, test_size=0.2, random_state=42)\n",
    "\n",
    "# 初始化随机森林分类器\n",
    "clf = RandomForestClassifier(random_state=42)\n",
    "\n",
    "# 训练模型\n",
    "clf.fit(X_train, y_train)\n",
    "\n",
    "# 预测测试集\n",
    "y_pred = clf.predict(X_test)\n",
    "\n",
    "# 计算准确率\n",
    "accuracy = accuracy_score(y_test, y_pred)\n",
    "print(f\"模型准确率: {accuracy:.2f}\")\n",
    "\n",
    "# 绘制混淆矩阵\n",
    "cm = confusion_matrix(y_test, y_pred)\n",
    "disp = ConfusionMatrixDisplay(confusion_matrix=cm, display_labels=[\"False Story\", \"True Story\"])\n",
    "disp.plot()\n",
    "plt.title(\"Confusion Matrix\")\n",
    "plt.show()\n"
   ]
  },
  {
   "cell_type": "markdown",
   "id": "5d8211d1",
   "metadata": {},
   "source": [
    "*However, we can see from the data that the acuuracy is not very high, so we need to use other models or other tools to improve the accuracy.*"
   ]
  },
  {
   "cell_type": "markdown",
   "id": "63efb2a3",
   "metadata": {},
   "source": [
    "## *So, in order to improve the model, we try to use more features to predict...*"
   ]
  },
  {
   "cell_type": "markdown",
   "id": "5e27617ba0150c6f",
   "metadata": {
    "collapsed": false
   },
   "source": [
    "# First, add audio features\n",
    "Initial features are too simple to predict, so we try to extract the mean of MFCC, Chroma, Spectral Contrast, and Tonnetz features from the audio file and returned by combining these features into a one-dimensional array. If an exception occurs during extraction, the function prints an error message and returns None.\n"
   ]
  },
  {
   "cell_type": "markdown",
   "id": "442047f2",
   "metadata": {},
   "source": [
    "* time is a bit longer, please wait for a while.(test time is 20min)"
   ]
  },
  {
   "cell_type": "code",
   "execution_count": 19,
   "id": "43b286497cfcd66",
   "metadata": {
    "ExecuteTime": {
     "end_time": "2024-12-24T01:17:53.641251Z",
     "start_time": "2024-12-24T00:53:20.224188Z"
    },
    "collapsed": false
   },
   "outputs": [
    {
     "name": "stderr",
     "output_type": "stream",
     "text": [
      "Extracting extended features: 100%|██████████| 100/100 [21:34<00:00, 12.95s/it]"
     ]
    },
    {
     "name": "stdout",
     "output_type": "stream",
     "text": [
      "扩展特征提取完成，保存到 extended_audio_features.csv\n"
     ]
    },
    {
     "name": "stderr",
     "output_type": "stream",
     "text": [
      "\n"
     ]
    }
   ],
   "source": [
    "def extract_extended_features(file_path):\n",
    "    try:\n",
    "        audio, sr = librosa.load(file_path, sr=None)  # 加载音频\n",
    "        # 提取MFCC\n",
    "        mfcc = librosa.feature.mfcc(y=audio, sr=sr, n_mfcc=13)\n",
    "        mfcc_mean = np.mean(mfcc, axis=1)\n",
    "        \n",
    "        # 提取Chroma特征\n",
    "        chroma = librosa.feature.chroma_stft(y=audio, sr=sr)\n",
    "        chroma_mean = np.mean(chroma, axis=1)\n",
    "        \n",
    "        # 提取Spectral Contrast特征\n",
    "        spectral_contrast = librosa.feature.spectral_contrast(y=audio, sr=sr)\n",
    "        spectral_contrast_mean = np.mean(spectral_contrast, axis=1)\n",
    "        \n",
    "        # 提取Tonnetz特征\n",
    "        tonnetz = librosa.feature.tonnetz(y=librosa.effects.harmonic(audio), sr=sr)\n",
    "        tonnetz_mean = np.mean(tonnetz, axis=1)\n",
    "        \n",
    "        # 合并所有特征\n",
    "        return np.concatenate([mfcc_mean, chroma_mean, spectral_contrast_mean, tonnetz_mean])\n",
    "    except Exception as e:\n",
    "        print(f\"Error processing {file_path}: {e}\")\n",
    "        return None\n",
    "\n",
    "# 提取特征\n",
    "extended_features = []\n",
    "for filename in tqdm(data['filename'], desc=\"Extracting extended features\"):\n",
    "    file_path = os.path.join(audio_path, filename)\n",
    "    extended_features.append(extract_extended_features(file_path))\n",
    "\n",
    "# 转为DataFrame\n",
    "extended_features_df = pd.DataFrame(extended_features)\n",
    "extended_features_df.columns = [\n",
    "    f'mfcc_{i+1}' for i in range(13)] + \\\n",
    "    [f'chroma_{i+1}' for i in range(12)] + \\\n",
    "    [f'spectral_contrast_{i+1}' for i in range(7)] + \\\n",
    "    [f'tonnetz_{i+1}' for i in range(6)]\n",
    "\n",
    "# 合并特征和标签\n",
    "data_with_extended_features = pd.concat([data.reset_index(drop=True), extended_features_df], axis=1)\n",
    "\n",
    "# 保存提取的扩展特征数据\n",
    "data_with_extended_features.to_csv(\"extended_audio_features.csv\", index=False)\n",
    "\n",
    "print(\"扩展特征提取完成，保存到 extended_audio_features.csv\")\n"
   ]
  },
  {
   "cell_type": "markdown",
   "id": "3a84e109d85fab2c",
   "metadata": {
    "collapsed": false
   },
   "source": [
    "# 6.2.2 Different models\n",
    "Support Vector Machine (SVM) and Multilayer Perceptron (MLP)"
   ]
  },
  {
   "cell_type": "code",
   "execution_count": 20,
   "id": "aef815878cab88e3",
   "metadata": {
    "ExecuteTime": {
     "end_time": "2024-12-24T01:20:38.884225Z",
     "start_time": "2024-12-24T01:20:37.584726Z"
    },
    "collapsed": false
   },
   "outputs": [
    {
     "name": "stdout",
     "output_type": "stream",
     "text": [
      "SVM分类报告：\n",
      "              precision    recall  f1-score   support\n",
      "\n",
      "           0       0.36      0.44      0.40         9\n",
      "           1       0.44      0.36      0.40        11\n",
      "\n",
      "    accuracy                           0.40        20\n",
      "   macro avg       0.40      0.40      0.40        20\n",
      "weighted avg       0.41      0.40      0.40        20\n",
      "\n",
      "MLP分类报告：\n",
      "              precision    recall  f1-score   support\n",
      "\n",
      "           0       0.33      0.44      0.38         9\n",
      "           1       0.38      0.27      0.32        11\n",
      "\n",
      "    accuracy                           0.35        20\n",
      "   macro avg       0.35      0.36      0.35        20\n",
      "weighted avg       0.36      0.35      0.35        20\n",
      "\n"
     ]
    },
    {
     "name": "stderr",
     "output_type": "stream",
     "text": [
      "d:\\software_final\\anaconda\\Lib\\site-packages\\sklearn\\neural_network\\_multilayer_perceptron.py:691: ConvergenceWarning: Stochastic Optimizer: Maximum iterations (500) reached and the optimization hasn't converged yet.\n",
      "  warnings.warn(\n"
     ]
    }
   ],
   "source": [
    "from sklearn.svm import SVC\n",
    "from sklearn.neural_network import MLPClassifier\n",
    "from sklearn.metrics import classification_report\n",
    "\n",
    "# 加载扩展特征数据\n",
    "data = pd.read_csv(\"extended_audio_features.csv\")\n",
    "X = data[[col for col in data.columns if col.startswith(('mfcc_', 'chroma_', 'spectral_contrast_', 'tonnetz_'))]]\n",
    "y = data['Story_type'].apply(lambda x: 1 if x == 'True Story' else 0)\n",
    "\n",
    "# 划分数据\n",
    "X_train, X_test, y_train, y_test = train_test_split(X, y, test_size=0.2, random_state=42)\n",
    "\n",
    "# 支持向量机 (SVM)\n",
    "svm_clf = SVC(kernel='linear', random_state=42)\n",
    "svm_clf.fit(X_train, y_train)\n",
    "svm_pred = svm_clf.predict(X_test)\n",
    "print(\"SVM分类报告：\")\n",
    "print(classification_report(y_test, svm_pred))\n",
    "\n",
    "# 多层感知机 (MLP)\n",
    "mlp_clf = MLPClassifier(hidden_layer_sizes=(100, 50), max_iter=500, random_state=42)\n",
    "mlp_clf.fit(X_train, y_train)\n",
    "mlp_pred = mlp_clf.predict(X_test)\n",
    "print(\"MLP分类报告：\")\n",
    "print(classification_report(y_test, mlp_pred))\n"
   ]
  },
  {
   "cell_type": "markdown",
   "id": "828ad7bb",
   "metadata": {},
   "source": [
    "*The accuracy is not high enough, keep going.*"
   ]
  },
  {
   "cell_type": "markdown",
   "id": "7d18525ec2bc15e",
   "metadata": {
    "collapsed": false
   },
   "source": [
    "# Hyperparameter tuning(baesd on random forest)"
   ]
  },
  {
   "cell_type": "code",
   "execution_count": 7,
   "id": "a08e004b0d9a136",
   "metadata": {
    "ExecuteTime": {
     "end_time": "2024-12-24T01:21:07.111643Z",
     "start_time": "2024-12-24T01:20:48.436434Z"
    },
    "collapsed": false
   },
   "outputs": [
    {
     "name": "stdout",
     "output_type": "stream",
     "text": [
      "最佳参数： {'max_depth': None, 'min_samples_leaf': 1, 'min_samples_split': 5, 'n_estimators': 50}\n",
      "优化后随机森林分类报告：\n",
      "              precision    recall  f1-score   support\n",
      "\n",
      "           0       0.38      0.56      0.45         9\n",
      "           1       0.43      0.27      0.33        11\n",
      "\n",
      "    accuracy                           0.40        20\n",
      "   macro avg       0.41      0.41      0.39        20\n",
      "weighted avg       0.41      0.40      0.39        20\n"
     ]
    }
   ],
   "source": [
    "from sklearn.model_selection import GridSearchCV\n",
    "\n",
    "# 定义参数网格\n",
    "param_grid = {\n",
    "    'n_estimators': [50, 100, 200],\n",
    "    'max_depth': [None, 10, 20],\n",
    "    'min_samples_split': [2, 5],\n",
    "    'min_samples_leaf': [1, 2]\n",
    "}\n",
    "\n",
    "# 网格搜索\n",
    "grid_search = GridSearchCV(RandomForestClassifier(random_state=42), param_grid, cv=5, scoring='accuracy')\n",
    "grid_search.fit(X_train, y_train)\n",
    "\n",
    "# 最优参数和模型\n",
    "print(\"最佳参数：\", grid_search.best_params_)\n",
    "best_model = grid_search.best_estimator_\n",
    "\n",
    "# 测试集性能\n",
    "grid_pred = best_model.predict(X_test)\n",
    "print(\"优化后随机森林分类报告：\")\n",
    "print(classification_report(y_test, grid_pred))"
   ]
  },
  {
   "cell_type": "markdown",
   "id": "03ed95c1",
   "metadata": {},
   "source": [
    "*Not good, keep trying*"
   ]
  },
  {
   "cell_type": "markdown",
   "id": "b1b81eb100ff9e65",
   "metadata": {
    "collapsed": false
   },
   "source": [
    "# Data enhancement"
   ]
  },
  {
   "cell_type": "code",
   "execution_count": 27,
   "id": "c569a5b6e34da70a",
   "metadata": {
    "ExecuteTime": {
     "end_time": "2024-12-24T02:46:41.256188Z",
     "start_time": "2024-12-24T01:26:04.450535Z"
    },
    "collapsed": false
   },
   "outputs": [
    {
     "name": "stderr",
     "output_type": "stream",
     "text": [
      "Augmenting data: 100%|██████████| 100/100 [1:18:09<00:00, 46.90s/it]"
     ]
    },
    {
     "name": "stdout",
     "output_type": "stream",
     "text": [
      "数据增强完成，保存到 augmented_audio_features.csv\n"
     ]
    },
    {
     "name": "stderr",
     "output_type": "stream",
     "text": [
      "\n"
     ]
    }
   ],
   "source": [
    "from tqdm import tqdm\n",
    "import pandas as pd\n",
    "import numpy as np\n",
    "import librosa\n",
    "import os\n",
    "\n",
    "# 定义音频增强函数\n",
    "def augment_audio(file_path):\n",
    "    try:\n",
    "        audio, sr = librosa.load(file_path, sr=None)\n",
    "        \n",
    "        # 时间拉伸\n",
    "        stretched_audio = librosa.effects.time_stretch(audio, rate=0.8)\n",
    "        \n",
    "        # 频率平移\n",
    "        shifted_audio = np.roll(audio, sr // 10)\n",
    "        \n",
    "        return [audio, stretched_audio, shifted_audio]\n",
    "    except Exception as e:\n",
    "        print(f\"Error augmenting {file_path}: {e}\")\n",
    "        return []\n",
    "\n",
    "# 扩展数据集\n",
    "augmented_features = []\n",
    "augmented_labels = []\n",
    "\n",
    "# 第一层进度条：处理每个音频文件\n",
    "for index, row in tqdm(data.iterrows(), desc=\"Augmenting data\", total=data.shape[0]):\n",
    "    file_path = os.path.join(audio_path, row['filename'])\n",
    "    label = row['Story_type']\n",
    "    \n",
    "    # 原始和增强音频\n",
    "    audios = augment_audio(file_path)\n",
    "    \n",
    "    # 第二层进度条：处理每个增强后的音频\n",
    "    for audio in tqdm(audios, desc=\"Processing augmented audio\", leave=False):\n",
    "        # 提取特征\n",
    "        features = extract_extended_features(file_path)\n",
    "        \n",
    "        if features is not None:\n",
    "            augmented_features.append(features)\n",
    "            augmented_labels.append(1 if label == 'True Story' else 0)\n",
    "\n",
    "# 转为DataFrame\n",
    "augmented_features_df = pd.DataFrame(augmented_features)7\n",
    "augmented_features_df.columns = extended_features_df.columns\n",
    "\n",
    "# 合并特征和标签\n",
    "augmented_data = pd.concat([augmented_features_df, pd.Series(augmented_labels, name='Story_type')], axis=1)\n",
    "augmented_data.to_csv(\"augmented_audio_features.csv\", index=False)\n",
    "\n",
    "print(\"数据增强完成，保存到 augmented_audio_features.csv\")\n"
   ]
  },
  {
   "cell_type": "markdown",
   "id": "bdf8bda2be69f292",
   "metadata": {
    "collapsed": false
   },
   "source": [
    "# feature selection（PCA）\n",
    "PCA was reduced to a 10-dimensional feature"
   ]
  },
  {
   "cell_type": "code",
   "execution_count": 28,
   "id": "7b225e8717fd370a",
   "metadata": {
    "ExecuteTime": {
     "end_time": "2024-12-24T02:54:41.473939Z",
     "start_time": "2024-12-24T02:54:41.365973Z"
    },
    "collapsed": false
   },
   "outputs": [
    {
     "name": "stdout",
     "output_type": "stream",
     "text": [
      "PCA完成，降维后的形状: (300, 10)\n"
     ]
    }
   ],
   "source": [
    "from sklearn.decomposition import PCA\n",
    "\n",
    "# 加载增强后的数据\n",
    "augmented_data = pd.read_csv(\"augmented_audio_features.csv\")\n",
    "X = augmented_data.drop('Story_type', axis=1)\n",
    "y = augmented_data['Story_type']\n",
    "\n",
    "# PCA降维\n",
    "pca = PCA(n_components=10)  # 保留10个主成分\n",
    "X_pca = pca.fit_transform(X)\n",
    "print(\"PCA完成，降维后的形状:\", X_pca.shape)\n"
   ]
  },
  {
   "cell_type": "markdown",
   "id": "9f5e0793728bb032",
   "metadata": {
    "collapsed": false
   },
   "source": [
    "# 6.1.3 Model 3/4 KNN and logistic regression"
   ]
  },
  {
   "cell_type": "code",
   "execution_count": 29,
   "id": "e35e28c6f8bc249b",
   "metadata": {
    "ExecuteTime": {
     "end_time": "2024-12-24T02:54:44.736384Z",
     "start_time": "2024-12-24T02:54:44.666064Z"
    },
    "collapsed": false
   },
   "outputs": [
    {
     "name": "stdout",
     "output_type": "stream",
     "text": [
      "KNN分类报告：\n",
      "              precision    recall  f1-score   support\n",
      "\n",
      "           0       0.74      0.62      0.68        32\n",
      "           1       0.64      0.75      0.69        28\n",
      "\n",
      "    accuracy                           0.68        60\n",
      "   macro avg       0.69      0.69      0.68        60\n",
      "weighted avg       0.69      0.68      0.68        60\n",
      "\n",
      "逻辑回归分类报告：\n",
      "              precision    recall  f1-score   support\n",
      "\n",
      "           0       0.63      0.53      0.58        32\n",
      "           1       0.55      0.64      0.59        28\n",
      "\n",
      "    accuracy                           0.58        60\n",
      "   macro avg       0.59      0.59      0.58        60\n",
      "weighted avg       0.59      0.58      0.58        60\n",
      "\n"
     ]
    }
   ],
   "source": [
    "from sklearn.neighbors import KNeighborsClassifier\n",
    "from sklearn.linear_model import LogisticRegression\n",
    "\n",
    "# 划分数据集\n",
    "X_train, X_test, y_train, y_test = train_test_split(X_pca, y, test_size=0.2, random_state=42)\n",
    "\n",
    "# KNN模型\n",
    "knn_clf = KNeighborsClassifier(n_neighbors=5)\n",
    "knn_clf.fit(X_train, y_train)\n",
    "knn_pred = knn_clf.predict(X_test)\n",
    "print(\"KNN分类报告：\")\n",
    "print(classification_report(y_test, knn_pred))\n",
    "\n",
    "# 逻辑回归模型\n",
    "lr_clf = LogisticRegression(random_state=42)\n",
    "lr_clf.fit(X_train, y_train)\n",
    "lr_pred = lr_clf.predict(X_test)\n",
    "print(\"逻辑回归分类报告：\")\n",
    "print(classification_report(y_test, lr_pred))\n"
   ]
  },
  {
   "cell_type": "markdown",
   "id": "e2b7597a",
   "metadata": {},
   "source": [
    "*KNN and logistic regression have a higher accuracy than other models.*"
   ]
  },
  {
   "cell_type": "markdown",
   "id": "9e75fb6ffe897c93",
   "metadata": {
    "collapsed": false
   },
   "source": [
    "# Optimization implementation：XGBoost"
   ]
  },
  {
   "cell_type": "code",
   "execution_count": 31,
   "id": "25a9d37d",
   "metadata": {},
   "outputs": [
    {
     "name": "stdout",
     "output_type": "stream",
     "text": [
      "Collecting xgboost\n",
      "  Using cached xgboost-2.1.3-py3-none-win_amd64.whl.metadata (2.1 kB)\n",
      "Requirement already satisfied: numpy in d:\\software_final\\anaconda\\lib\\site-packages (from xgboost) (1.26.4)\n",
      "Requirement already satisfied: scipy in d:\\software_final\\anaconda\\lib\\site-packages (from xgboost) (1.13.1)\n",
      "Downloading xgboost-2.1.3-py3-none-win_amd64.whl (124.9 MB)\n",
      "   ---------------------------------------- 0.0/124.9 MB ? eta -:--:--\n",
      "   ---------------------------------------- 0.0/124.9 MB ? eta -:--:--\n",
      "   ---------------------------------------- 0.0/124.9 MB 325.1 kB/s eta 0:06:25\n",
      "   ---------------------------------------- 0.1/124.9 MB 409.6 kB/s eta 0:05:05\n",
      "   ---------------------------------------- 0.1/124.9 MB 595.3 kB/s eta 0:03:30\n",
      "   ---------------------------------------- 0.1/124.9 MB 595.3 kB/s eta 0:03:30\n",
      "   ---------------------------------------- 0.1/124.9 MB 595.3 kB/s eta 0:03:30\n",
      "   ---------------------------------------- 0.2/124.9 MB 621.6 kB/s eta 0:03:21\n",
      "   ---------------------------------------- 0.2/124.9 MB 621.6 kB/s eta 0:03:21\n",
      "   ---------------------------------------- 0.2/124.9 MB 621.6 kB/s eta 0:03:21\n",
      "   ---------------------------------------- 0.3/124.9 MB 542.5 kB/s eta 0:03:50\n",
      "   ---------------------------------------- 0.3/124.9 MB 593.9 kB/s eta 0:03:30\n",
      "   ---------------------------------------- 0.4/124.9 MB 636.5 kB/s eta 0:03:16\n",
      "   ---------------------------------------- 0.4/124.9 MB 636.6 kB/s eta 0:03:16\n",
      "   ---------------------------------------- 0.4/124.9 MB 607.1 kB/s eta 0:03:26\n",
      "   ---------------------------------------- 0.5/124.9 MB 655.2 kB/s eta 0:03:10\n",
      "   ---------------------------------------- 0.5/124.9 MB 696.6 kB/s eta 0:02:59\n",
      "   ---------------------------------------- 0.6/124.9 MB 734.2 kB/s eta 0:02:50\n",
      "   ---------------------------------------- 0.6/124.9 MB 754.4 kB/s eta 0:02:45\n",
      "   ---------------------------------------- 0.7/124.9 MB 797.8 kB/s eta 0:02:36\n",
      "   ---------------------------------------- 0.7/124.9 MB 813.8 kB/s eta 0:02:33\n",
      "   ---------------------------------------- 0.8/124.9 MB 805.9 kB/s eta 0:02:35\n",
      "   ---------------------------------------- 0.8/124.9 MB 819.2 kB/s eta 0:02:32\n",
      "   ---------------------------------------- 0.9/124.9 MB 831.3 kB/s eta 0:02:30\n",
      "   ---------------------------------------- 0.9/124.9 MB 823.7 kB/s eta 0:02:31\n",
      "   ---------------------------------------- 1.0/124.9 MB 861.6 kB/s eta 0:02:24\n",
      "   ---------------------------------------- 1.1/124.9 MB 887.8 kB/s eta 0:02:20\n",
      "   ---------------------------------------- 1.1/124.9 MB 903.8 kB/s eta 0:02:17\n",
      "   ---------------------------------------- 1.2/124.9 MB 919.3 kB/s eta 0:02:15\n",
      "   ---------------------------------------- 1.3/124.9 MB 937.1 kB/s eta 0:02:12\n",
      "   ---------------------------------------- 1.3/124.9 MB 968.1 kB/s eta 0:02:08\n",
      "   ---------------------------------------- 1.4/124.9 MB 993.8 kB/s eta 0:02:05\n",
      "   ---------------------------------------- 1.5/124.9 MB 1.0 MB/s eta 0:02:02\n",
      "    --------------------------------------- 1.6/124.9 MB 1.0 MB/s eta 0:01:59\n",
      "    --------------------------------------- 1.6/124.9 MB 1.0 MB/s eta 0:01:58\n",
      "    --------------------------------------- 1.7/124.9 MB 1.1 MB/s eta 0:01:56\n",
      "    --------------------------------------- 1.8/124.9 MB 1.1 MB/s eta 0:01:54\n",
      "    --------------------------------------- 1.9/124.9 MB 1.1 MB/s eta 0:01:52\n",
      "    --------------------------------------- 1.9/124.9 MB 1.1 MB/s eta 0:01:53\n",
      "    --------------------------------------- 2.0/124.9 MB 1.1 MB/s eta 0:01:50\n",
      "    --------------------------------------- 2.1/124.9 MB 1.1 MB/s eta 0:01:48\n",
      "    --------------------------------------- 2.2/124.9 MB 1.2 MB/s eta 0:01:45\n",
      "    --------------------------------------- 2.3/124.9 MB 1.2 MB/s eta 0:01:44\n",
      "    --------------------------------------- 2.4/124.9 MB 1.2 MB/s eta 0:01:42\n",
      "    --------------------------------------- 2.5/124.9 MB 1.2 MB/s eta 0:01:40\n",
      "    --------------------------------------- 2.5/124.9 MB 1.2 MB/s eta 0:01:40\n",
      "    --------------------------------------- 2.6/124.9 MB 1.2 MB/s eta 0:01:42\n",
      "    --------------------------------------- 2.7/124.9 MB 1.2 MB/s eta 0:01:41\n",
      "    --------------------------------------- 2.7/124.9 MB 1.2 MB/s eta 0:01:41\n",
      "    --------------------------------------- 2.7/124.9 MB 1.2 MB/s eta 0:01:41\n",
      "    --------------------------------------- 2.7/124.9 MB 1.2 MB/s eta 0:01:41\n",
      "    --------------------------------------- 2.8/124.9 MB 1.2 MB/s eta 0:01:43\n",
      "    --------------------------------------- 2.8/124.9 MB 1.2 MB/s eta 0:01:43\n",
      "    --------------------------------------- 2.8/124.9 MB 1.1 MB/s eta 0:01:47\n",
      "    --------------------------------------- 2.9/124.9 MB 1.2 MB/s eta 0:01:46\n",
      "    --------------------------------------- 2.9/124.9 MB 1.2 MB/s eta 0:01:46\n",
      "    --------------------------------------- 3.0/124.9 MB 1.2 MB/s eta 0:01:45\n",
      "    --------------------------------------- 3.1/124.9 MB 1.2 MB/s eta 0:01:44\n",
      "   - -------------------------------------- 3.2/124.9 MB 1.2 MB/s eta 0:01:43\n",
      "   - -------------------------------------- 3.3/124.9 MB 1.2 MB/s eta 0:01:41\n",
      "   - -------------------------------------- 3.4/124.9 MB 1.2 MB/s eta 0:01:40\n",
      "   - -------------------------------------- 3.4/124.9 MB 1.2 MB/s eta 0:01:41\n",
      "   - -------------------------------------- 3.4/124.9 MB 1.2 MB/s eta 0:01:41\n",
      "   - -------------------------------------- 3.5/124.9 MB 1.2 MB/s eta 0:01:41\n",
      "   - -------------------------------------- 3.5/124.9 MB 1.2 MB/s eta 0:01:43\n",
      "   - -------------------------------------- 3.6/124.9 MB 1.2 MB/s eta 0:01:43\n",
      "   - -------------------------------------- 3.7/124.9 MB 1.2 MB/s eta 0:01:41\n",
      "   - -------------------------------------- 3.7/124.9 MB 1.2 MB/s eta 0:01:43\n",
      "   - -------------------------------------- 3.7/124.9 MB 1.2 MB/s eta 0:01:43\n",
      "   - -------------------------------------- 3.7/124.9 MB 1.2 MB/s eta 0:01:43\n",
      "   - -------------------------------------- 3.7/124.9 MB 1.2 MB/s eta 0:01:46\n",
      "   - -------------------------------------- 3.7/124.9 MB 1.2 MB/s eta 0:01:46\n",
      "   - -------------------------------------- 3.8/124.9 MB 1.1 MB/s eta 0:01:46\n",
      "   - -------------------------------------- 3.9/124.9 MB 1.1 MB/s eta 0:01:47\n",
      "   - -------------------------------------- 3.9/124.9 MB 1.1 MB/s eta 0:01:46\n",
      "   - -------------------------------------- 4.0/124.9 MB 1.2 MB/s eta 0:01:45\n",
      "   - -------------------------------------- 4.0/124.9 MB 1.2 MB/s eta 0:01:45\n",
      "   - -------------------------------------- 4.0/124.9 MB 1.2 MB/s eta 0:01:45\n",
      "   - -------------------------------------- 4.0/124.9 MB 1.2 MB/s eta 0:01:45\n",
      "   - -------------------------------------- 4.0/124.9 MB 1.1 MB/s eta 0:01:51\n",
      "   - -------------------------------------- 4.1/124.9 MB 1.1 MB/s eta 0:01:51\n",
      "   - -------------------------------------- 4.1/124.9 MB 1.1 MB/s eta 0:01:50\n",
      "   - -------------------------------------- 4.2/124.9 MB 1.1 MB/s eta 0:01:48\n",
      "   - -------------------------------------- 4.4/124.9 MB 1.1 MB/s eta 0:01:46\n",
      "   - -------------------------------------- 4.4/124.9 MB 1.1 MB/s eta 0:01:47\n",
      "   - -------------------------------------- 4.5/124.9 MB 1.2 MB/s eta 0:01:45\n",
      "   - -------------------------------------- 4.7/124.9 MB 1.2 MB/s eta 0:01:42\n",
      "   - -------------------------------------- 4.8/124.9 MB 1.2 MB/s eta 0:01:42\n",
      "   - -------------------------------------- 4.9/124.9 MB 1.2 MB/s eta 0:01:41\n",
      "   - -------------------------------------- 5.0/124.9 MB 1.2 MB/s eta 0:01:40\n",
      "   - -------------------------------------- 5.1/124.9 MB 1.2 MB/s eta 0:01:39\n",
      "   - -------------------------------------- 5.3/124.9 MB 1.2 MB/s eta 0:01:37\n",
      "   - -------------------------------------- 5.3/124.9 MB 1.2 MB/s eta 0:01:37\n",
      "   - -------------------------------------- 5.3/124.9 MB 1.2 MB/s eta 0:01:37\n",
      "   - -------------------------------------- 5.3/124.9 MB 1.2 MB/s eta 0:01:39\n",
      "   - -------------------------------------- 5.6/124.9 MB 1.3 MB/s eta 0:01:34\n",
      "   - -------------------------------------- 5.6/124.9 MB 1.3 MB/s eta 0:01:34\n",
      "   - -------------------------------------- 5.6/124.9 MB 1.3 MB/s eta 0:01:36\n",
      "   - -------------------------------------- 5.8/124.9 MB 1.3 MB/s eta 0:01:35\n",
      "   - -------------------------------------- 5.9/124.9 MB 1.3 MB/s eta 0:01:34\n",
      "   - -------------------------------------- 6.1/124.9 MB 1.3 MB/s eta 0:01:32\n",
      "   - -------------------------------------- 6.1/124.9 MB 1.3 MB/s eta 0:01:31\n",
      "   -- ------------------------------------- 6.3/124.9 MB 1.3 MB/s eta 0:01:30\n",
      "   -- ------------------------------------- 6.3/124.9 MB 1.3 MB/s eta 0:01:30\n",
      "   -- ------------------------------------- 6.6/124.9 MB 1.4 MB/s eta 0:01:28\n",
      "   -- ------------------------------------- 6.6/124.9 MB 1.3 MB/s eta 0:01:28\n",
      "   -- ------------------------------------- 6.6/124.9 MB 1.4 MB/s eta 0:01:28\n",
      "   -- ------------------------------------- 6.6/124.9 MB 1.4 MB/s eta 0:01:28\n",
      "   -- ------------------------------------- 6.7/124.9 MB 1.3 MB/s eta 0:01:29\n",
      "   -- ------------------------------------- 6.8/124.9 MB 1.3 MB/s eta 0:01:29\n",
      "   -- ------------------------------------- 6.8/124.9 MB 1.3 MB/s eta 0:01:29\n",
      "   -- ------------------------------------- 6.8/124.9 MB 1.3 MB/s eta 0:01:29\n",
      "   -- ------------------------------------- 6.9/124.9 MB 1.3 MB/s eta 0:01:29\n",
      "   -- ------------------------------------- 7.1/124.9 MB 1.3 MB/s eta 0:01:28\n",
      "   -- ------------------------------------- 7.2/124.9 MB 1.4 MB/s eta 0:01:27\n",
      "   -- ------------------------------------- 7.3/124.9 MB 1.4 MB/s eta 0:01:27\n",
      "   -- ------------------------------------- 7.3/124.9 MB 1.4 MB/s eta 0:01:27\n",
      "   -- ------------------------------------- 7.3/124.9 MB 1.4 MB/s eta 0:01:27\n",
      "   -- ------------------------------------- 7.3/124.9 MB 1.4 MB/s eta 0:01:27\n",
      "   -- ------------------------------------- 7.3/124.9 MB 1.4 MB/s eta 0:01:27\n",
      "   -- ------------------------------------- 7.4/124.9 MB 1.3 MB/s eta 0:01:29\n",
      "   -- ------------------------------------- 7.4/124.9 MB 1.3 MB/s eta 0:01:29\n",
      "   -- ------------------------------------- 7.5/124.9 MB 1.3 MB/s eta 0:01:30\n",
      "   -- ------------------------------------- 7.5/124.9 MB 1.3 MB/s eta 0:01:29\n",
      "   -- ------------------------------------- 7.6/124.9 MB 1.3 MB/s eta 0:01:29\n",
      "   -- ------------------------------------- 7.8/124.9 MB 1.3 MB/s eta 0:01:27\n",
      "   -- ------------------------------------- 8.0/124.9 MB 1.4 MB/s eta 0:01:26\n",
      "   -- ------------------------------------- 8.1/124.9 MB 1.4 MB/s eta 0:01:25\n",
      "   -- ------------------------------------- 8.1/124.9 MB 1.4 MB/s eta 0:01:25\n",
      "   -- ------------------------------------- 8.3/124.9 MB 1.4 MB/s eta 0:01:25\n",
      "   -- ------------------------------------- 8.5/124.9 MB 1.4 MB/s eta 0:01:23\n",
      "   -- ------------------------------------- 8.6/124.9 MB 1.4 MB/s eta 0:01:22\n",
      "   -- ------------------------------------- 8.7/124.9 MB 1.4 MB/s eta 0:01:22\n",
      "   -- ------------------------------------- 9.1/124.9 MB 1.5 MB/s eta 0:01:20\n",
      "   -- ------------------------------------- 9.1/124.9 MB 1.5 MB/s eta 0:01:19\n",
      "   -- ------------------------------------- 9.1/124.9 MB 1.5 MB/s eta 0:01:19\n",
      "   -- ------------------------------------- 9.2/124.9 MB 1.5 MB/s eta 0:01:20\n",
      "   --- ------------------------------------ 9.4/124.9 MB 1.5 MB/s eta 0:01:18\n",
      "   --- ------------------------------------ 9.5/124.9 MB 1.5 MB/s eta 0:01:18\n",
      "   --- ------------------------------------ 9.5/124.9 MB 1.5 MB/s eta 0:01:18\n",
      "   --- ------------------------------------ 9.9/124.9 MB 1.5 MB/s eta 0:01:16\n",
      "   --- ------------------------------------ 10.0/124.9 MB 1.5 MB/s eta 0:01:16\n",
      "   --- ------------------------------------ 10.2/124.9 MB 1.5 MB/s eta 0:01:15\n",
      "   --- ------------------------------------ 10.4/124.9 MB 1.6 MB/s eta 0:01:11\n",
      "   --- ------------------------------------ 10.7/124.9 MB 1.7 MB/s eta 0:01:07\n",
      "   --- ------------------------------------ 10.8/124.9 MB 1.7 MB/s eta 0:01:07\n",
      "   --- ------------------------------------ 11.0/124.9 MB 1.8 MB/s eta 0:01:05\n",
      "   --- ------------------------------------ 11.4/124.9 MB 1.8 MB/s eta 0:01:02\n",
      "   --- ------------------------------------ 11.4/124.9 MB 1.8 MB/s eta 0:01:02\n",
      "   --- ------------------------------------ 11.7/124.9 MB 1.9 MB/s eta 0:01:01\n",
      "   --- ------------------------------------ 11.8/124.9 MB 1.9 MB/s eta 0:01:00\n",
      "   --- ------------------------------------ 12.0/124.9 MB 1.9 MB/s eta 0:01:00\n",
      "   --- ------------------------------------ 12.1/124.9 MB 1.9 MB/s eta 0:00:59\n",
      "   --- ------------------------------------ 12.2/124.9 MB 1.9 MB/s eta 0:00:59\n",
      "   --- ------------------------------------ 12.2/124.9 MB 1.9 MB/s eta 0:00:59\n",
      "   --- ------------------------------------ 12.2/124.9 MB 1.9 MB/s eta 0:00:59\n",
      "   --- ------------------------------------ 12.3/124.9 MB 1.9 MB/s eta 0:01:00\n",
      "   ---- ----------------------------------- 12.5/124.9 MB 1.9 MB/s eta 0:00:59\n",
      "   ---- ----------------------------------- 12.8/124.9 MB 2.0 MB/s eta 0:00:57\n",
      "   ---- ----------------------------------- 13.0/124.9 MB 2.0 MB/s eta 0:00:56\n",
      "   ---- ----------------------------------- 13.0/124.9 MB 2.1 MB/s eta 0:00:55\n",
      "   ---- ----------------------------------- 13.2/124.9 MB 2.1 MB/s eta 0:00:54\n",
      "   ---- ----------------------------------- 13.4/124.9 MB 2.1 MB/s eta 0:00:54\n",
      "   ---- ----------------------------------- 13.4/124.9 MB 2.1 MB/s eta 0:00:54\n",
      "   ---- ----------------------------------- 13.4/124.9 MB 2.1 MB/s eta 0:00:54\n",
      "   ---- ----------------------------------- 13.4/124.9 MB 2.1 MB/s eta 0:00:54\n",
      "   ---- ----------------------------------- 13.4/124.9 MB 2.1 MB/s eta 0:00:54\n",
      "   ---- ----------------------------------- 13.4/124.9 MB 2.0 MB/s eta 0:00:56\n",
      "   ---- ----------------------------------- 13.6/124.9 MB 2.0 MB/s eta 0:00:55\n",
      "   ---- ----------------------------------- 13.8/124.9 MB 2.1 MB/s eta 0:00:53\n",
      "   ---- ----------------------------------- 14.0/124.9 MB 2.3 MB/s eta 0:00:50\n",
      "   ---- ----------------------------------- 14.2/124.9 MB 2.3 MB/s eta 0:00:49\n",
      "   ---- ----------------------------------- 14.3/124.9 MB 2.4 MB/s eta 0:00:46\n",
      "   ---- ----------------------------------- 14.3/124.9 MB 2.4 MB/s eta 0:00:46\n",
      "   ---- ----------------------------------- 14.6/124.9 MB 2.4 MB/s eta 0:00:47\n",
      "   ---- ----------------------------------- 14.8/124.9 MB 2.4 MB/s eta 0:00:46\n",
      "   ---- ----------------------------------- 14.9/124.9 MB 2.4 MB/s eta 0:00:46\n",
      "   ---- ----------------------------------- 15.1/124.9 MB 2.5 MB/s eta 0:00:45\n",
      "   ---- ----------------------------------- 15.1/124.9 MB 2.5 MB/s eta 0:00:45\n",
      "   ---- ----------------------------------- 15.4/124.9 MB 2.5 MB/s eta 0:00:45\n",
      "   ----- ---------------------------------- 15.6/124.9 MB 2.5 MB/s eta 0:00:43\n",
      "   ----- ---------------------------------- 16.0/124.9 MB 2.6 MB/s eta 0:00:42\n",
      "   ----- ---------------------------------- 16.3/124.9 MB 2.7 MB/s eta 0:00:41\n",
      "   ----- ---------------------------------- 16.3/124.9 MB 2.7 MB/s eta 0:00:41\n",
      "   ----- ---------------------------------- 16.4/124.9 MB 2.7 MB/s eta 0:00:41\n",
      "   ----- ---------------------------------- 16.8/124.9 MB 2.8 MB/s eta 0:00:40\n",
      "   ----- ---------------------------------- 17.2/124.9 MB 3.0 MB/s eta 0:00:37\n",
      "   ----- ---------------------------------- 17.5/124.9 MB 3.0 MB/s eta 0:00:36\n",
      "   ----- ---------------------------------- 17.6/124.9 MB 3.2 MB/s eta 0:00:34\n",
      "   ----- ---------------------------------- 18.0/124.9 MB 3.4 MB/s eta 0:00:32\n",
      "   ----- ---------------------------------- 18.3/124.9 MB 3.5 MB/s eta 0:00:31\n",
      "   ----- ---------------------------------- 18.7/124.9 MB 3.6 MB/s eta 0:00:30\n",
      "   ------ --------------------------------- 19.0/124.9 MB 3.7 MB/s eta 0:00:29\n",
      "   ------ --------------------------------- 19.5/124.9 MB 3.9 MB/s eta 0:00:28\n",
      "   ------ --------------------------------- 19.6/124.9 MB 3.9 MB/s eta 0:00:28\n",
      "   ------ --------------------------------- 19.8/124.9 MB 3.9 MB/s eta 0:00:27\n",
      "   ------ --------------------------------- 19.9/124.9 MB 3.9 MB/s eta 0:00:27\n",
      "   ------ --------------------------------- 19.9/124.9 MB 3.9 MB/s eta 0:00:27\n",
      "   ------ --------------------------------- 19.9/124.9 MB 3.8 MB/s eta 0:00:28\n",
      "   ------ --------------------------------- 20.4/124.9 MB 3.8 MB/s eta 0:00:28\n",
      "   ------ --------------------------------- 20.7/124.9 MB 3.9 MB/s eta 0:00:27\n",
      "   ------ --------------------------------- 20.7/124.9 MB 3.9 MB/s eta 0:00:27\n",
      "   ------ --------------------------------- 20.7/124.9 MB 3.7 MB/s eta 0:00:28\n",
      "   ------ --------------------------------- 20.8/124.9 MB 3.7 MB/s eta 0:00:28\n",
      "   ------ --------------------------------- 21.0/124.9 MB 3.7 MB/s eta 0:00:29\n",
      "   ------ --------------------------------- 21.4/124.9 MB 3.7 MB/s eta 0:00:28\n",
      "   ------ --------------------------------- 21.7/124.9 MB 3.8 MB/s eta 0:00:28\n",
      "   ------- -------------------------------- 21.9/124.9 MB 3.9 MB/s eta 0:00:27\n",
      "   ------- -------------------------------- 21.9/124.9 MB 3.9 MB/s eta 0:00:27\n",
      "   ------- -------------------------------- 21.9/124.9 MB 3.9 MB/s eta 0:00:27\n",
      "   ------- -------------------------------- 21.9/124.9 MB 3.9 MB/s eta 0:00:27\n",
      "   ------- -------------------------------- 22.0/124.9 MB 3.6 MB/s eta 0:00:29\n",
      "   ------- -------------------------------- 22.3/124.9 MB 3.6 MB/s eta 0:00:29\n",
      "   ------- -------------------------------- 22.5/124.9 MB 3.9 MB/s eta 0:00:27\n",
      "   ------- -------------------------------- 22.9/124.9 MB 3.9 MB/s eta 0:00:27\n",
      "   ------- -------------------------------- 23.3/124.9 MB 4.0 MB/s eta 0:00:26\n",
      "   ------- -------------------------------- 23.7/124.9 MB 4.5 MB/s eta 0:00:23\n",
      "   ------- -------------------------------- 24.0/124.9 MB 4.6 MB/s eta 0:00:22\n",
      "   ------- -------------------------------- 24.0/124.9 MB 4.6 MB/s eta 0:00:22\n",
      "   ------- -------------------------------- 24.2/124.9 MB 4.5 MB/s eta 0:00:23\n",
      "   ------- -------------------------------- 24.6/124.9 MB 4.5 MB/s eta 0:00:23\n",
      "   ------- -------------------------------- 24.9/124.9 MB 4.7 MB/s eta 0:00:22\n",
      "   -------- ------------------------------- 25.2/124.9 MB 4.8 MB/s eta 0:00:21\n",
      "   -------- ------------------------------- 25.6/124.9 MB 5.0 MB/s eta 0:00:20\n",
      "   -------- ------------------------------- 26.0/124.9 MB 5.0 MB/s eta 0:00:20\n",
      "   -------- ------------------------------- 26.2/124.9 MB 5.0 MB/s eta 0:00:20\n",
      "   -------- ------------------------------- 26.6/124.9 MB 5.2 MB/s eta 0:00:19\n",
      "   -------- ------------------------------- 26.7/124.9 MB 5.2 MB/s eta 0:00:19\n",
      "   -------- ------------------------------- 26.7/124.9 MB 5.2 MB/s eta 0:00:19\n",
      "   -------- ------------------------------- 26.8/124.9 MB 4.9 MB/s eta 0:00:20\n",
      "   -------- ------------------------------- 27.1/124.9 MB 4.9 MB/s eta 0:00:21\n",
      "   -------- ------------------------------- 27.8/124.9 MB 5.0 MB/s eta 0:00:20\n",
      "   --------- ------------------------------ 28.2/124.9 MB 5.1 MB/s eta 0:00:19\n",
      "   --------- ------------------------------ 28.2/124.9 MB 5.1 MB/s eta 0:00:19\n",
      "   --------- ------------------------------ 28.2/124.9 MB 5.1 MB/s eta 0:00:19\n",
      "   --------- ------------------------------ 28.5/124.9 MB 4.9 MB/s eta 0:00:20\n",
      "   --------- ------------------------------ 28.9/124.9 MB 4.9 MB/s eta 0:00:20\n",
      "   --------- ------------------------------ 29.5/124.9 MB 4.9 MB/s eta 0:00:20\n",
      "   --------- ------------------------------ 29.9/124.9 MB 4.9 MB/s eta 0:00:20\n",
      "   --------- ------------------------------ 30.3/124.9 MB 5.4 MB/s eta 0:00:18\n",
      "   --------- ------------------------------ 30.5/124.9 MB 5.4 MB/s eta 0:00:18\n",
      "   --------- ------------------------------ 30.8/124.9 MB 5.4 MB/s eta 0:00:18\n",
      "   --------- ------------------------------ 30.8/124.9 MB 5.4 MB/s eta 0:00:18\n",
      "   --------- ------------------------------ 31.0/124.9 MB 5.4 MB/s eta 0:00:18\n",
      "   ---------- ----------------------------- 31.5/124.9 MB 5.6 MB/s eta 0:00:17\n",
      "   ---------- ----------------------------- 31.9/124.9 MB 5.6 MB/s eta 0:00:17\n",
      "   ---------- ----------------------------- 32.4/124.9 MB 6.4 MB/s eta 0:00:15\n",
      "   ---------- ----------------------------- 32.4/124.9 MB 6.4 MB/s eta 0:00:15\n",
      "   ---------- ----------------------------- 32.5/124.9 MB 6.1 MB/s eta 0:00:16\n",
      "   ---------- ----------------------------- 32.8/124.9 MB 6.2 MB/s eta 0:00:15\n",
      "   ---------- ----------------------------- 33.1/124.9 MB 6.2 MB/s eta 0:00:15\n",
      "   ---------- ----------------------------- 33.4/124.9 MB 6.2 MB/s eta 0:00:15\n",
      "   ---------- ----------------------------- 33.9/124.9 MB 6.1 MB/s eta 0:00:16\n",
      "   ---------- ----------------------------- 34.0/124.9 MB 6.1 MB/s eta 0:00:15\n",
      "   ---------- ----------------------------- 34.0/124.9 MB 6.1 MB/s eta 0:00:15\n",
      "   ----------- ---------------------------- 34.4/124.9 MB 6.1 MB/s eta 0:00:15\n",
      "   ----------- ---------------------------- 34.9/124.9 MB 6.2 MB/s eta 0:00:15\n",
      "   ----------- ---------------------------- 35.3/124.9 MB 6.2 MB/s eta 0:00:15\n",
      "   ----------- ---------------------------- 35.5/124.9 MB 6.2 MB/s eta 0:00:15\n",
      "   ----------- ---------------------------- 35.8/124.9 MB 6.1 MB/s eta 0:00:15\n",
      "   ----------- ---------------------------- 36.0/124.9 MB 6.1 MB/s eta 0:00:15\n",
      "   ----------- ---------------------------- 36.0/124.9 MB 6.1 MB/s eta 0:00:15\n",
      "   ----------- ---------------------------- 36.0/124.9 MB 6.1 MB/s eta 0:00:15\n",
      "   ----------- ---------------------------- 36.3/124.9 MB 5.7 MB/s eta 0:00:16\n",
      "   ----------- ---------------------------- 36.5/124.9 MB 5.7 MB/s eta 0:00:16\n",
      "   ----------- ---------------------------- 36.7/124.9 MB 5.6 MB/s eta 0:00:16\n",
      "   ----------- ---------------------------- 36.8/124.9 MB 5.5 MB/s eta 0:00:16\n",
      "   ----------- ---------------------------- 36.9/124.9 MB 5.5 MB/s eta 0:00:17\n",
      "   ----------- ---------------------------- 36.9/124.9 MB 5.5 MB/s eta 0:00:17\n",
      "   ----------- ---------------------------- 36.9/124.9 MB 5.5 MB/s eta 0:00:17\n",
      "   ----------- ---------------------------- 36.9/124.9 MB 5.5 MB/s eta 0:00:17\n",
      "   ----------- ---------------------------- 36.9/124.9 MB 5.5 MB/s eta 0:00:17\n",
      "   ----------- ---------------------------- 36.9/124.9 MB 5.5 MB/s eta 0:00:17\n",
      "   ----------- ---------------------------- 36.9/124.9 MB 4.7 MB/s eta 0:00:19\n",
      "   ----------- ---------------------------- 36.9/124.9 MB 4.7 MB/s eta 0:00:19\n",
      "   ----------- ---------------------------- 37.0/124.9 MB 4.7 MB/s eta 0:00:19\n",
      "   ------------ --------------------------- 38.6/124.9 MB 5.3 MB/s eta 0:00:17\n",
      "   ------------ --------------------------- 38.8/124.9 MB 5.3 MB/s eta 0:00:17\n",
      "   ------------ --------------------------- 39.1/124.9 MB 5.2 MB/s eta 0:00:17\n",
      "   ------------ --------------------------- 39.5/124.9 MB 5.2 MB/s eta 0:00:17\n",
      "   ------------ --------------------------- 39.9/124.9 MB 5.3 MB/s eta 0:00:17\n",
      "   ------------ --------------------------- 40.1/124.9 MB 5.2 MB/s eta 0:00:17\n",
      "   ------------ --------------------------- 40.4/124.9 MB 5.1 MB/s eta 0:00:17\n",
      "   ------------ --------------------------- 40.4/124.9 MB 5.1 MB/s eta 0:00:17\n",
      "   ------------ --------------------------- 40.4/124.9 MB 5.1 MB/s eta 0:00:17\n",
      "   ------------ --------------------------- 40.6/124.9 MB 4.8 MB/s eta 0:00:18\n",
      "   ------------- -------------------------- 40.8/124.9 MB 4.9 MB/s eta 0:00:18\n",
      "   ------------- -------------------------- 41.3/124.9 MB 5.0 MB/s eta 0:00:17\n",
      "   ------------- -------------------------- 41.4/124.9 MB 5.0 MB/s eta 0:00:17\n",
      "   ------------- -------------------------- 41.8/124.9 MB 4.9 MB/s eta 0:00:17\n",
      "   ------------- -------------------------- 41.9/124.9 MB 4.9 MB/s eta 0:00:17\n",
      "   ------------- -------------------------- 42.3/124.9 MB 4.9 MB/s eta 0:00:17\n",
      "   ------------- -------------------------- 42.7/124.9 MB 5.0 MB/s eta 0:00:17\n",
      "   ------------- -------------------------- 43.1/124.9 MB 5.0 MB/s eta 0:00:17\n",
      "   ------------- -------------------------- 43.3/124.9 MB 5.0 MB/s eta 0:00:17\n",
      "   ------------- -------------------------- 43.5/124.9 MB 5.0 MB/s eta 0:00:17\n",
      "   ------------- -------------------------- 43.5/124.9 MB 5.0 MB/s eta 0:00:17\n",
      "   ------------- -------------------------- 43.5/124.9 MB 5.0 MB/s eta 0:00:17\n",
      "   -------------- ------------------------- 43.8/124.9 MB 4.7 MB/s eta 0:00:18\n",
      "   -------------- ------------------------- 44.1/124.9 MB 4.7 MB/s eta 0:00:18\n",
      "   -------------- ------------------------- 44.4/124.9 MB 4.9 MB/s eta 0:00:17\n",
      "   -------------- ------------------------- 44.6/124.9 MB 4.8 MB/s eta 0:00:17\n",
      "   -------------- ------------------------- 45.1/124.9 MB 4.8 MB/s eta 0:00:17\n",
      "   -------------- ------------------------- 45.5/124.9 MB 4.8 MB/s eta 0:00:17\n",
      "   -------------- ------------------------- 45.8/124.9 MB 4.8 MB/s eta 0:00:17\n",
      "   -------------- ------------------------- 45.8/124.9 MB 4.8 MB/s eta 0:00:17\n",
      "   -------------- ------------------------- 45.8/124.9 MB 4.8 MB/s eta 0:00:17\n",
      "   -------------- ------------------------- 46.0/124.9 MB 4.6 MB/s eta 0:00:18\n",
      "   -------------- ------------------------- 46.4/124.9 MB 4.9 MB/s eta 0:00:17\n",
      "   -------------- ------------------------- 46.8/124.9 MB 4.9 MB/s eta 0:00:16\n",
      "   --------------- ------------------------ 47.2/124.9 MB 6.4 MB/s eta 0:00:13\n",
      "   --------------- ------------------------ 47.2/124.9 MB 6.4 MB/s eta 0:00:13\n",
      "   --------------- ------------------------ 47.3/124.9 MB 6.0 MB/s eta 0:00:13\n",
      "   --------------- ------------------------ 47.7/124.9 MB 5.8 MB/s eta 0:00:14\n",
      "   --------------- ------------------------ 48.0/124.9 MB 5.7 MB/s eta 0:00:14\n",
      "   --------------- ------------------------ 48.4/124.9 MB 5.6 MB/s eta 0:00:14\n",
      "   --------------- ------------------------ 48.7/124.9 MB 5.5 MB/s eta 0:00:14\n",
      "   --------------- ------------------------ 49.0/124.9 MB 5.5 MB/s eta 0:00:14\n",
      "   --------------- ------------------------ 49.3/124.9 MB 5.5 MB/s eta 0:00:14\n",
      "   --------------- ------------------------ 49.3/124.9 MB 5.5 MB/s eta 0:00:14\n",
      "   --------------- ------------------------ 49.6/124.9 MB 5.3 MB/s eta 0:00:15\n",
      "   --------------- ------------------------ 49.9/124.9 MB 5.3 MB/s eta 0:00:15\n",
      "   ---------------- ----------------------- 50.4/124.9 MB 5.5 MB/s eta 0:00:14\n",
      "   ---------------- ----------------------- 50.6/124.9 MB 5.7 MB/s eta 0:00:14\n",
      "   ---------------- ----------------------- 51.1/124.9 MB 5.9 MB/s eta 0:00:13\n",
      "   ---------------- ----------------------- 51.1/124.9 MB 5.9 MB/s eta 0:00:13\n",
      "   ---------------- ----------------------- 51.1/124.9 MB 5.6 MB/s eta 0:00:14\n",
      "   ---------------- ----------------------- 51.1/124.9 MB 5.6 MB/s eta 0:00:14\n",
      "   ---------------- ----------------------- 51.4/124.9 MB 5.3 MB/s eta 0:00:14\n",
      "   ---------------- ----------------------- 51.7/124.9 MB 5.4 MB/s eta 0:00:14\n",
      "   ---------------- ----------------------- 52.0/124.9 MB 5.4 MB/s eta 0:00:14\n",
      "   ---------------- ----------------------- 52.7/124.9 MB 5.5 MB/s eta 0:00:14\n",
      "   ---------------- ----------------------- 52.7/124.9 MB 5.5 MB/s eta 0:00:14\n",
      "   ---------------- ----------------------- 52.7/124.9 MB 5.5 MB/s eta 0:00:14\n",
      "   ---------------- ----------------------- 53.0/124.9 MB 5.3 MB/s eta 0:00:14\n",
      "   ----------------- ---------------------- 53.2/124.9 MB 5.2 MB/s eta 0:00:14\n",
      "   ----------------- ---------------------- 53.6/124.9 MB 5.3 MB/s eta 0:00:14\n",
      "   ----------------- ---------------------- 53.6/124.9 MB 5.2 MB/s eta 0:00:14\n",
      "   ----------------- ---------------------- 53.9/124.9 MB 5.5 MB/s eta 0:00:13\n",
      "   ----------------- ---------------------- 53.9/124.9 MB 5.5 MB/s eta 0:00:13\n",
      "   ----------------- ---------------------- 54.4/124.9 MB 5.4 MB/s eta 0:00:14\n",
      "   ----------------- ---------------------- 54.6/124.9 MB 5.4 MB/s eta 0:00:14\n",
      "   ----------------- ---------------------- 54.6/124.9 MB 5.2 MB/s eta 0:00:14\n",
      "   ----------------- ---------------------- 54.8/124.9 MB 5.2 MB/s eta 0:00:14\n",
      "   ----------------- ---------------------- 55.1/124.9 MB 5.2 MB/s eta 0:00:14\n",
      "   ----------------- ---------------------- 55.3/124.9 MB 5.1 MB/s eta 0:00:14\n",
      "   ----------------- ---------------------- 55.5/124.9 MB 5.1 MB/s eta 0:00:14\n",
      "   ----------------- ---------------------- 55.6/124.9 MB 5.0 MB/s eta 0:00:14\n",
      "   ----------------- ---------------------- 55.7/124.9 MB 4.9 MB/s eta 0:00:15\n",
      "   ----------------- ---------------------- 55.8/124.9 MB 4.8 MB/s eta 0:00:15\n",
      "   ----------------- ---------------------- 56.0/124.9 MB 4.7 MB/s eta 0:00:15\n",
      "   ----------------- ---------------------- 56.1/124.9 MB 5.0 MB/s eta 0:00:14\n",
      "   ----------------- ---------------------- 56.2/124.9 MB 4.9 MB/s eta 0:00:15\n",
      "   ------------------ --------------------- 56.3/124.9 MB 4.8 MB/s eta 0:00:15\n",
      "   ------------------ --------------------- 56.5/124.9 MB 4.8 MB/s eta 0:00:15\n",
      "   ------------------ --------------------- 56.5/124.9 MB 4.6 MB/s eta 0:00:15\n",
      "   ------------------ --------------------- 56.6/124.9 MB 4.6 MB/s eta 0:00:15\n",
      "   ------------------ --------------------- 56.6/124.9 MB 4.5 MB/s eta 0:00:16\n",
      "   ------------------ --------------------- 56.8/124.9 MB 4.4 MB/s eta 0:00:16\n",
      "   ------------------ --------------------- 57.4/124.9 MB 4.5 MB/s eta 0:00:16\n",
      "   ------------------ --------------------- 57.5/124.9 MB 4.6 MB/s eta 0:00:15\n",
      "   ------------------ --------------------- 57.8/124.9 MB 4.5 MB/s eta 0:00:15\n",
      "   ------------------ --------------------- 57.9/124.9 MB 4.5 MB/s eta 0:00:15\n",
      "   ------------------ --------------------- 57.9/124.9 MB 4.5 MB/s eta 0:00:15\n",
      "   ------------------ --------------------- 57.9/124.9 MB 4.3 MB/s eta 0:00:16\n",
      "   ------------------ --------------------- 58.0/124.9 MB 4.3 MB/s eta 0:00:16\n",
      "   ------------------ --------------------- 58.0/124.9 MB 4.3 MB/s eta 0:00:16\n",
      "   ------------------ --------------------- 58.0/124.9 MB 4.3 MB/s eta 0:00:16\n",
      "   ------------------ --------------------- 58.0/124.9 MB 4.3 MB/s eta 0:00:16\n",
      "   ------------------ --------------------- 58.0/124.9 MB 4.3 MB/s eta 0:00:16\n",
      "   ------------------ --------------------- 58.0/124.9 MB 4.3 MB/s eta 0:00:16\n",
      "   ------------------ --------------------- 58.0/124.9 MB 4.3 MB/s eta 0:00:16\n",
      "   ------------------ --------------------- 58.0/124.9 MB 4.3 MB/s eta 0:00:16\n",
      "   ------------------ --------------------- 58.0/124.9 MB 4.3 MB/s eta 0:00:16\n",
      "   ------------------ --------------------- 58.0/124.9 MB 4.3 MB/s eta 0:00:16\n",
      "   ------------------ --------------------- 58.0/124.9 MB 4.3 MB/s eta 0:00:16\n",
      "   ------------------ --------------------- 58.0/124.9 MB 4.3 MB/s eta 0:00:16\n",
      "   ------------------ --------------------- 58.0/124.9 MB 4.3 MB/s eta 0:00:16\n",
      "   ------------------ --------------------- 58.0/124.9 MB 4.3 MB/s eta 0:00:16\n",
      "   ------------------ --------------------- 58.0/124.9 MB 4.3 MB/s eta 0:00:16\n",
      "   ------------------ --------------------- 58.0/124.9 MB 4.3 MB/s eta 0:00:16\n",
      "   ------------------ --------------------- 58.0/124.9 MB 4.3 MB/s eta 0:00:16\n",
      "   ------------------ --------------------- 58.0/124.9 MB 4.3 MB/s eta 0:00:16\n",
      "   ------------------ --------------------- 58.0/124.9 MB 4.3 MB/s eta 0:00:16\n",
      "   ------------------ --------------------- 58.0/124.9 MB 4.3 MB/s eta 0:00:16\n",
      "   ------------------ --------------------- 58.0/124.9 MB 4.3 MB/s eta 0:00:16\n",
      "   ------------------ --------------------- 58.0/124.9 MB 3.0 MB/s eta 0:00:23\n",
      "   ------------------ --------------------- 58.1/124.9 MB 3.0 MB/s eta 0:00:23\n",
      "   ------------------ --------------------- 58.3/124.9 MB 3.0 MB/s eta 0:00:23\n",
      "   ------------------ --------------------- 58.5/124.9 MB 3.0 MB/s eta 0:00:23\n",
      "   ------------------ --------------------- 59.0/124.9 MB 3.0 MB/s eta 0:00:23\n",
      "   ------------------ --------------------- 59.3/124.9 MB 3.0 MB/s eta 0:00:23\n",
      "   ------------------- -------------------- 59.7/124.9 MB 3.0 MB/s eta 0:00:22\n",
      "   ------------------- -------------------- 59.8/124.9 MB 3.0 MB/s eta 0:00:22\n",
      "   ------------------- -------------------- 59.8/124.9 MB 3.0 MB/s eta 0:00:22\n",
      "   ------------------- -------------------- 59.8/124.9 MB 3.0 MB/s eta 0:00:22\n",
      "   ------------------- -------------------- 59.8/124.9 MB 3.0 MB/s eta 0:00:22\n",
      "   ------------------- -------------------- 59.8/124.9 MB 3.0 MB/s eta 0:00:22\n",
      "   ------------------- -------------------- 59.8/124.9 MB 3.0 MB/s eta 0:00:22\n",
      "   ------------------- -------------------- 61.1/124.9 MB 2.9 MB/s eta 0:00:23\n",
      "   ------------------- -------------------- 61.1/124.9 MB 2.9 MB/s eta 0:00:23\n",
      "   ------------------- -------------------- 61.2/124.9 MB 2.8 MB/s eta 0:00:23\n",
      "   ------------------- -------------------- 61.3/124.9 MB 2.8 MB/s eta 0:00:23\n",
      "   ------------------- -------------------- 61.3/124.9 MB 2.8 MB/s eta 0:00:24\n",
      "   ------------------- -------------------- 61.4/124.9 MB 2.9 MB/s eta 0:00:23\n",
      "   ------------------- -------------------- 61.5/124.9 MB 2.9 MB/s eta 0:00:23\n",
      "   ------------------- -------------------- 61.5/124.9 MB 2.8 MB/s eta 0:00:23\n",
      "   ------------------- -------------------- 61.5/124.9 MB 2.8 MB/s eta 0:00:23\n",
      "   ------------------- -------------------- 61.6/124.9 MB 2.7 MB/s eta 0:00:24\n",
      "   ------------------- -------------------- 61.6/124.9 MB 2.7 MB/s eta 0:00:24\n",
      "   ------------------- -------------------- 61.8/124.9 MB 2.7 MB/s eta 0:00:24\n",
      "   ------------------- -------------------- 62.0/124.9 MB 2.7 MB/s eta 0:00:24\n",
      "   ------------------- -------------------- 62.1/124.9 MB 2.7 MB/s eta 0:00:24\n",
      "   ------------------- -------------------- 62.3/124.9 MB 2.7 MB/s eta 0:00:24\n",
      "   ------------------- -------------------- 62.3/124.9 MB 2.7 MB/s eta 0:00:24\n",
      "   ------------------- -------------------- 62.4/124.9 MB 2.6 MB/s eta 0:00:25\n",
      "   -------------------- ------------------- 62.7/124.9 MB 2.6 MB/s eta 0:00:25\n",
      "   -------------------- ------------------- 62.8/124.9 MB 2.6 MB/s eta 0:00:25\n",
      "   -------------------- ------------------- 62.9/124.9 MB 2.5 MB/s eta 0:00:25\n",
      "   -------------------- ------------------- 63.2/124.9 MB 2.6 MB/s eta 0:00:24\n",
      "   -------------------- ------------------- 63.3/124.9 MB 2.6 MB/s eta 0:00:24\n",
      "   -------------------- ------------------- 63.4/124.9 MB 2.6 MB/s eta 0:00:25\n",
      "   -------------------- ------------------- 63.5/124.9 MB 2.5 MB/s eta 0:00:25\n",
      "   -------------------- ------------------- 63.9/124.9 MB 2.6 MB/s eta 0:00:24\n",
      "   -------------------- ------------------- 64.1/124.9 MB 2.6 MB/s eta 0:00:24\n",
      "   -------------------- ------------------- 64.1/124.9 MB 2.6 MB/s eta 0:00:24\n",
      "   -------------------- ------------------- 64.1/124.9 MB 2.6 MB/s eta 0:00:24\n",
      "   -------------------- ------------------- 64.3/124.9 MB 2.5 MB/s eta 0:00:25\n",
      "   -------------------- ------------------- 64.3/124.9 MB 2.5 MB/s eta 0:00:25\n",
      "   -------------------- ------------------- 64.5/124.9 MB 2.5 MB/s eta 0:00:25\n",
      "   -------------------- ------------------- 64.9/124.9 MB 2.5 MB/s eta 0:00:25\n",
      "   -------------------- ------------------- 64.9/124.9 MB 2.5 MB/s eta 0:00:24\n",
      "   -------------------- ------------------- 65.3/124.9 MB 2.5 MB/s eta 0:00:24\n",
      "   --------------------- ------------------ 65.7/124.9 MB 2.5 MB/s eta 0:00:24\n",
      "   --------------------- ------------------ 65.9/124.9 MB 2.5 MB/s eta 0:00:24\n",
      "   --------------------- ------------------ 66.1/124.9 MB 2.6 MB/s eta 0:00:23\n",
      "   --------------------- ------------------ 66.5/124.9 MB 2.6 MB/s eta 0:00:23\n",
      "   --------------------- ------------------ 66.9/124.9 MB 2.8 MB/s eta 0:00:21\n",
      "   --------------------- ------------------ 67.1/124.9 MB 2.8 MB/s eta 0:00:21\n",
      "   --------------------- ------------------ 67.5/124.9 MB 2.7 MB/s eta 0:00:22\n",
      "   --------------------- ------------------ 67.6/124.9 MB 2.7 MB/s eta 0:00:22\n",
      "   --------------------- ------------------ 68.0/124.9 MB 2.8 MB/s eta 0:00:21\n",
      "   --------------------- ------------------ 68.2/124.9 MB 2.8 MB/s eta 0:00:20\n",
      "   --------------------- ------------------ 68.5/124.9 MB 4.0 MB/s eta 0:00:15\n",
      "   --------------------- ------------------ 68.5/124.9 MB 4.0 MB/s eta 0:00:15\n",
      "   --------------------- ------------------ 68.5/124.9 MB 4.0 MB/s eta 0:00:15\n",
      "   ---------------------- ----------------- 68.8/124.9 MB 3.9 MB/s eta 0:00:15\n",
      "   ---------------------- ----------------- 69.0/124.9 MB 3.8 MB/s eta 0:00:15\n",
      "   ---------------------- ----------------- 69.2/124.9 MB 3.9 MB/s eta 0:00:15\n",
      "   ---------------------- ----------------- 69.3/124.9 MB 3.8 MB/s eta 0:00:15\n",
      "   ---------------------- ----------------- 69.3/124.9 MB 3.7 MB/s eta 0:00:16\n",
      "   ---------------------- ----------------- 69.4/124.9 MB 3.7 MB/s eta 0:00:16\n",
      "   ---------------------- ----------------- 69.6/124.9 MB 3.7 MB/s eta 0:00:16\n",
      "   ---------------------- ----------------- 69.6/124.9 MB 3.7 MB/s eta 0:00:16\n",
      "   ---------------------- ----------------- 69.6/124.9 MB 3.7 MB/s eta 0:00:16\n",
      "   ---------------------- ----------------- 69.6/124.9 MB 3.7 MB/s eta 0:00:16\n",
      "   ---------------------- ----------------- 69.7/124.9 MB 3.4 MB/s eta 0:00:17\n",
      "   ---------------------- ----------------- 69.7/124.9 MB 3.4 MB/s eta 0:00:17\n",
      "   ---------------------- ----------------- 69.9/124.9 MB 3.3 MB/s eta 0:00:17\n",
      "   ---------------------- ----------------- 70.2/124.9 MB 3.7 MB/s eta 0:00:15\n",
      "   ---------------------- ----------------- 70.3/124.9 MB 3.6 MB/s eta 0:00:16\n",
      "   ---------------------- ----------------- 70.5/124.9 MB 3.5 MB/s eta 0:00:16\n",
      "   ---------------------- ----------------- 70.7/124.9 MB 3.5 MB/s eta 0:00:16\n",
      "   ---------------------- ----------------- 70.9/124.9 MB 3.4 MB/s eta 0:00:16\n",
      "   ---------------------- ----------------- 71.0/124.9 MB 3.4 MB/s eta 0:00:16\n",
      "   ---------------------- ----------------- 71.1/124.9 MB 3.4 MB/s eta 0:00:16\n",
      "   ---------------------- ----------------- 71.1/124.9 MB 3.4 MB/s eta 0:00:16\n",
      "   ---------------------- ----------------- 71.1/124.9 MB 3.4 MB/s eta 0:00:16\n",
      "   ---------------------- ----------------- 71.1/124.9 MB 3.4 MB/s eta 0:00:16\n",
      "   ---------------------- ----------------- 71.1/124.9 MB 3.4 MB/s eta 0:00:16\n",
      "   ---------------------- ----------------- 71.8/124.9 MB 3.6 MB/s eta 0:00:15\n",
      "   ----------------------- ---------------- 71.8/124.9 MB 3.5 MB/s eta 0:00:16\n",
      "   ----------------------- ---------------- 71.9/124.9 MB 3.5 MB/s eta 0:00:16\n",
      "   ----------------------- ---------------- 72.1/124.9 MB 3.5 MB/s eta 0:00:16\n",
      "   ----------------------- ---------------- 72.2/124.9 MB 3.5 MB/s eta 0:00:16\n",
      "   ----------------------- ---------------- 72.4/124.9 MB 3.5 MB/s eta 0:00:15\n",
      "   ----------------------- ---------------- 72.7/124.9 MB 3.6 MB/s eta 0:00:15\n",
      "   ----------------------- ---------------- 72.8/124.9 MB 3.6 MB/s eta 0:00:15\n",
      "   ----------------------- ---------------- 72.8/124.9 MB 3.6 MB/s eta 0:00:15\n",
      "   ----------------------- ---------------- 73.0/124.9 MB 3.5 MB/s eta 0:00:15\n",
      "   ----------------------- ---------------- 73.2/124.9 MB 3.6 MB/s eta 0:00:15\n",
      "   ----------------------- ---------------- 73.3/124.9 MB 3.5 MB/s eta 0:00:15\n",
      "   ----------------------- ---------------- 73.5/124.9 MB 3.5 MB/s eta 0:00:15\n",
      "   ----------------------- ---------------- 73.7/124.9 MB 3.6 MB/s eta 0:00:15\n",
      "   ----------------------- ---------------- 73.7/124.9 MB 3.6 MB/s eta 0:00:15\n",
      "   ----------------------- ---------------- 73.8/124.9 MB 3.5 MB/s eta 0:00:15\n",
      "   ----------------------- ---------------- 74.1/124.9 MB 3.5 MB/s eta 0:00:15\n",
      "   ----------------------- ---------------- 74.1/124.9 MB 3.5 MB/s eta 0:00:15\n",
      "   ----------------------- ---------------- 74.2/124.9 MB 3.4 MB/s eta 0:00:15\n",
      "   ----------------------- ---------------- 74.4/124.9 MB 3.5 MB/s eta 0:00:15\n",
      "   ----------------------- ---------------- 74.5/124.9 MB 3.6 MB/s eta 0:00:15\n",
      "   ----------------------- ---------------- 74.7/124.9 MB 3.5 MB/s eta 0:00:15\n",
      "   ----------------------- ---------------- 74.7/124.9 MB 3.5 MB/s eta 0:00:15\n",
      "   ------------------------ --------------- 75.0/124.9 MB 3.5 MB/s eta 0:00:15\n",
      "   ------------------------ --------------- 75.1/124.9 MB 3.4 MB/s eta 0:00:15\n",
      "   ------------------------ --------------- 75.3/124.9 MB 3.4 MB/s eta 0:00:15\n",
      "   ------------------------ --------------- 75.3/124.9 MB 3.4 MB/s eta 0:00:15\n",
      "   ------------------------ --------------- 75.3/124.9 MB 3.4 MB/s eta 0:00:15\n",
      "   ------------------------ --------------- 75.5/124.9 MB 3.3 MB/s eta 0:00:15\n",
      "   ------------------------ --------------- 75.6/124.9 MB 3.3 MB/s eta 0:00:16\n",
      "   ------------------------ --------------- 75.8/124.9 MB 3.3 MB/s eta 0:00:16\n",
      "   ------------------------ --------------- 75.9/124.9 MB 3.2 MB/s eta 0:00:16\n",
      "   ------------------------ --------------- 76.0/124.9 MB 3.2 MB/s eta 0:00:16\n",
      "   ------------------------ --------------- 76.2/124.9 MB 3.2 MB/s eta 0:00:16\n",
      "   ------------------------ --------------- 76.4/124.9 MB 3.2 MB/s eta 0:00:16\n",
      "   ------------------------ --------------- 76.6/124.9 MB 3.2 MB/s eta 0:00:16\n",
      "   ------------------------ --------------- 76.7/124.9 MB 3.1 MB/s eta 0:00:16\n",
      "   ------------------------ --------------- 76.9/124.9 MB 3.1 MB/s eta 0:00:16\n",
      "   ------------------------ --------------- 77.1/124.9 MB 3.1 MB/s eta 0:00:16\n",
      "   ------------------------ --------------- 77.3/124.9 MB 3.1 MB/s eta 0:00:16\n",
      "   ------------------------ --------------- 77.4/124.9 MB 3.1 MB/s eta 0:00:16\n",
      "   ------------------------ --------------- 77.6/124.9 MB 3.0 MB/s eta 0:00:16\n",
      "   ------------------------ --------------- 77.6/124.9 MB 3.0 MB/s eta 0:00:16\n",
      "   ------------------------ --------------- 77.7/124.9 MB 2.9 MB/s eta 0:00:17\n",
      "   ------------------------ --------------- 77.7/124.9 MB 2.9 MB/s eta 0:00:17\n",
      "   ------------------------ --------------- 77.9/124.9 MB 2.9 MB/s eta 0:00:17\n",
      "   ------------------------ --------------- 78.0/124.9 MB 2.9 MB/s eta 0:00:17\n",
      "   ------------------------- -------------- 78.2/124.9 MB 2.9 MB/s eta 0:00:17\n",
      "   ------------------------- -------------- 78.3/124.9 MB 2.9 MB/s eta 0:00:17\n",
      "   ------------------------- -------------- 78.7/124.9 MB 3.0 MB/s eta 0:00:16\n",
      "   ------------------------- -------------- 78.9/124.9 MB 2.9 MB/s eta 0:00:16\n",
      "   ------------------------- -------------- 78.9/124.9 MB 2.9 MB/s eta 0:00:16\n",
      "   ------------------------- -------------- 79.0/124.9 MB 2.9 MB/s eta 0:00:16\n",
      "   ------------------------- -------------- 79.1/124.9 MB 2.9 MB/s eta 0:00:16\n",
      "   ------------------------- -------------- 79.4/124.9 MB 2.9 MB/s eta 0:00:16\n",
      "   ------------------------- -------------- 79.6/124.9 MB 2.9 MB/s eta 0:00:16\n",
      "   ------------------------- -------------- 79.8/124.9 MB 2.9 MB/s eta 0:00:16\n",
      "   ------------------------- -------------- 79.9/124.9 MB 3.1 MB/s eta 0:00:15\n",
      "   ------------------------- -------------- 79.9/124.9 MB 3.1 MB/s eta 0:00:15\n",
      "   ------------------------- -------------- 80.0/124.9 MB 3.1 MB/s eta 0:00:15\n",
      "   ------------------------- -------------- 80.1/124.9 MB 3.0 MB/s eta 0:00:15\n",
      "   ------------------------- -------------- 80.1/124.9 MB 3.0 MB/s eta 0:00:15\n",
      "   ------------------------- -------------- 80.2/124.9 MB 3.0 MB/s eta 0:00:16\n",
      "   ------------------------- -------------- 80.2/124.9 MB 3.0 MB/s eta 0:00:16\n",
      "   ------------------------- -------------- 80.3/124.9 MB 2.9 MB/s eta 0:00:16\n",
      "   ------------------------- -------------- 80.3/124.9 MB 2.9 MB/s eta 0:00:16\n",
      "   ------------------------- -------------- 80.3/124.9 MB 2.9 MB/s eta 0:00:16\n",
      "   ------------------------- -------------- 80.4/124.9 MB 2.8 MB/s eta 0:00:16\n",
      "   ------------------------- -------------- 80.4/124.9 MB 2.8 MB/s eta 0:00:16\n",
      "   ------------------------- -------------- 80.4/124.9 MB 2.8 MB/s eta 0:00:16\n",
      "   ------------------------- -------------- 80.4/124.9 MB 2.8 MB/s eta 0:00:16\n",
      "   ------------------------- -------------- 80.4/124.9 MB 2.8 MB/s eta 0:00:16\n",
      "   ------------------------- -------------- 80.5/124.9 MB 2.7 MB/s eta 0:00:17\n",
      "   ------------------------- -------------- 80.6/124.9 MB 2.7 MB/s eta 0:00:17\n",
      "   ------------------------- -------------- 80.7/124.9 MB 2.6 MB/s eta 0:00:17\n",
      "   ------------------------- -------------- 80.8/124.9 MB 2.6 MB/s eta 0:00:17\n",
      "   ------------------------- -------------- 80.8/124.9 MB 2.6 MB/s eta 0:00:17\n",
      "   ------------------------- -------------- 80.9/124.9 MB 2.6 MB/s eta 0:00:18\n",
      "   ------------------------- -------------- 81.0/124.9 MB 2.6 MB/s eta 0:00:18\n",
      "   -------------------------- ------------- 81.2/124.9 MB 2.6 MB/s eta 0:00:18\n",
      "   -------------------------- ------------- 81.4/124.9 MB 2.7 MB/s eta 0:00:17\n",
      "   -------------------------- ------------- 81.6/124.9 MB 2.7 MB/s eta 0:00:17\n",
      "   -------------------------- ------------- 81.8/124.9 MB 2.7 MB/s eta 0:00:17\n",
      "   -------------------------- ------------- 81.8/124.9 MB 2.7 MB/s eta 0:00:17\n",
      "   -------------------------- ------------- 82.2/124.9 MB 2.7 MB/s eta 0:00:16\n",
      "   -------------------------- ------------- 82.3/124.9 MB 2.7 MB/s eta 0:00:17\n",
      "   -------------------------- ------------- 82.4/124.9 MB 2.7 MB/s eta 0:00:16\n",
      "   -------------------------- ------------- 82.6/124.9 MB 2.7 MB/s eta 0:00:16\n",
      "   -------------------------- ------------- 82.8/124.9 MB 2.7 MB/s eta 0:00:16\n",
      "   -------------------------- ------------- 83.0/124.9 MB 2.7 MB/s eta 0:00:16\n",
      "   -------------------------- ------------- 83.1/124.9 MB 2.7 MB/s eta 0:00:16\n",
      "   -------------------------- ------------- 83.1/124.9 MB 2.7 MB/s eta 0:00:16\n",
      "   -------------------------- ------------- 83.1/124.9 MB 2.7 MB/s eta 0:00:16\n",
      "   -------------------------- ------------- 83.2/124.9 MB 2.6 MB/s eta 0:00:17\n",
      "   -------------------------- ------------- 83.3/124.9 MB 2.6 MB/s eta 0:00:17\n",
      "   -------------------------- ------------- 83.3/124.9 MB 2.6 MB/s eta 0:00:17\n",
      "   -------------------------- ------------- 83.4/124.9 MB 2.6 MB/s eta 0:00:17\n",
      "   -------------------------- ------------- 83.4/124.9 MB 2.6 MB/s eta 0:00:17\n",
      "   -------------------------- ------------- 83.5/124.9 MB 2.5 MB/s eta 0:00:17\n",
      "   -------------------------- ------------- 83.6/124.9 MB 2.5 MB/s eta 0:00:17\n",
      "   -------------------------- ------------- 83.7/124.9 MB 2.5 MB/s eta 0:00:17\n",
      "   -------------------------- ------------- 83.8/124.9 MB 2.5 MB/s eta 0:00:17\n",
      "   -------------------------- ------------- 83.9/124.9 MB 2.5 MB/s eta 0:00:17\n",
      "   -------------------------- ------------- 84.0/124.9 MB 2.5 MB/s eta 0:00:17\n",
      "   -------------------------- ------------- 84.1/124.9 MB 2.5 MB/s eta 0:00:17\n",
      "   -------------------------- ------------- 84.2/124.9 MB 2.4 MB/s eta 0:00:17\n",
      "   -------------------------- ------------- 84.2/124.9 MB 2.4 MB/s eta 0:00:17\n",
      "   --------------------------- ------------ 84.4/124.9 MB 2.5 MB/s eta 0:00:17\n",
      "   --------------------------- ------------ 84.5/124.9 MB 2.5 MB/s eta 0:00:17\n",
      "   --------------------------- ------------ 84.6/124.9 MB 2.4 MB/s eta 0:00:17\n",
      "   --------------------------- ------------ 84.6/124.9 MB 2.4 MB/s eta 0:00:17\n",
      "   --------------------------- ------------ 84.7/124.9 MB 2.4 MB/s eta 0:00:17\n",
      "   --------------------------- ------------ 84.7/124.9 MB 2.4 MB/s eta 0:00:17\n",
      "   --------------------------- ------------ 84.8/124.9 MB 2.4 MB/s eta 0:00:17\n",
      "   --------------------------- ------------ 84.9/124.9 MB 2.4 MB/s eta 0:00:17\n",
      "   --------------------------- ------------ 85.0/124.9 MB 2.4 MB/s eta 0:00:17\n",
      "   --------------------------- ------------ 85.1/124.9 MB 2.3 MB/s eta 0:00:17\n",
      "   --------------------------- ------------ 85.2/124.9 MB 2.3 MB/s eta 0:00:18\n",
      "   --------------------------- ------------ 85.3/124.9 MB 2.3 MB/s eta 0:00:18\n",
      "   --------------------------- ------------ 85.3/124.9 MB 2.3 MB/s eta 0:00:18\n",
      "   --------------------------- ------------ 85.4/124.9 MB 2.3 MB/s eta 0:00:18\n",
      "   --------------------------- ------------ 85.4/124.9 MB 2.3 MB/s eta 0:00:18\n",
      "   --------------------------- ------------ 85.5/124.9 MB 2.3 MB/s eta 0:00:17\n",
      "   --------------------------- ------------ 85.7/124.9 MB 2.3 MB/s eta 0:00:17\n",
      "   --------------------------- ------------ 85.8/124.9 MB 2.3 MB/s eta 0:00:17\n",
      "   --------------------------- ------------ 85.9/124.9 MB 2.3 MB/s eta 0:00:17\n",
      "   --------------------------- ------------ 86.1/124.9 MB 2.3 MB/s eta 0:00:17\n",
      "   --------------------------- ------------ 86.2/124.9 MB 2.3 MB/s eta 0:00:17\n",
      "   --------------------------- ------------ 86.4/124.9 MB 2.3 MB/s eta 0:00:17\n",
      "   --------------------------- ------------ 86.5/124.9 MB 2.3 MB/s eta 0:00:17\n",
      "   --------------------------- ------------ 86.6/124.9 MB 2.3 MB/s eta 0:00:17\n",
      "   --------------------------- ------------ 86.6/124.9 MB 2.3 MB/s eta 0:00:17\n",
      "   --------------------------- ------------ 86.7/124.9 MB 2.2 MB/s eta 0:00:18\n",
      "   --------------------------- ------------ 86.7/124.9 MB 2.2 MB/s eta 0:00:17\n",
      "   --------------------------- ------------ 86.8/124.9 MB 2.2 MB/s eta 0:00:18\n",
      "   --------------------------- ------------ 87.0/124.9 MB 2.2 MB/s eta 0:00:18\n",
      "   --------------------------- ------------ 87.0/124.9 MB 2.2 MB/s eta 0:00:17\n",
      "   --------------------------- ------------ 87.0/124.9 MB 2.2 MB/s eta 0:00:17\n",
      "   --------------------------- ------------ 87.0/124.9 MB 2.2 MB/s eta 0:00:17\n",
      "   --------------------------- ------------ 87.1/124.9 MB 2.2 MB/s eta 0:00:18\n",
      "   --------------------------- ------------ 87.3/124.9 MB 2.1 MB/s eta 0:00:18\n",
      "   --------------------------- ------------ 87.3/124.9 MB 2.1 MB/s eta 0:00:18\n",
      "   --------------------------- ------------ 87.4/124.9 MB 2.1 MB/s eta 0:00:18\n",
      "   ---------------------------- ----------- 87.5/124.9 MB 2.1 MB/s eta 0:00:18\n",
      "   ---------------------------- ----------- 87.7/124.9 MB 2.1 MB/s eta 0:00:18\n",
      "   ---------------------------- ----------- 87.8/124.9 MB 2.1 MB/s eta 0:00:18\n",
      "   ---------------------------- ----------- 88.0/124.9 MB 2.2 MB/s eta 0:00:18\n",
      "   ---------------------------- ----------- 88.3/124.9 MB 2.2 MB/s eta 0:00:17\n",
      "   ---------------------------- ----------- 88.5/124.9 MB 2.2 MB/s eta 0:00:17\n",
      "   ---------------------------- ----------- 88.7/124.9 MB 2.2 MB/s eta 0:00:17\n",
      "   ---------------------------- ----------- 88.9/124.9 MB 2.2 MB/s eta 0:00:17\n",
      "   ---------------------------- ----------- 89.0/124.9 MB 2.2 MB/s eta 0:00:17\n",
      "   ---------------------------- ----------- 89.2/124.9 MB 2.2 MB/s eta 0:00:17\n",
      "   ---------------------------- ----------- 89.5/124.9 MB 2.2 MB/s eta 0:00:17\n",
      "   ---------------------------- ----------- 89.5/124.9 MB 2.2 MB/s eta 0:00:17\n",
      "   ---------------------------- ----------- 89.5/124.9 MB 2.2 MB/s eta 0:00:17\n",
      "   ---------------------------- ----------- 89.8/124.9 MB 2.2 MB/s eta 0:00:17\n",
      "   ---------------------------- ----------- 89.9/124.9 MB 2.2 MB/s eta 0:00:17\n",
      "   ---------------------------- ----------- 90.1/124.9 MB 2.2 MB/s eta 0:00:16\n",
      "   ---------------------------- ----------- 90.4/124.9 MB 2.3 MB/s eta 0:00:16\n",
      "   ----------------------------- ---------- 90.6/124.9 MB 2.4 MB/s eta 0:00:15\n",
      "   ----------------------------- ---------- 90.7/124.9 MB 2.5 MB/s eta 0:00:14\n",
      "   ----------------------------- ---------- 90.8/124.9 MB 2.5 MB/s eta 0:00:14\n",
      "   ----------------------------- ---------- 90.9/124.9 MB 2.5 MB/s eta 0:00:14\n",
      "   ----------------------------- ---------- 90.9/124.9 MB 2.5 MB/s eta 0:00:14\n",
      "   ----------------------------- ---------- 91.2/124.9 MB 2.5 MB/s eta 0:00:14\n",
      "   ----------------------------- ---------- 91.3/124.9 MB 2.5 MB/s eta 0:00:14\n",
      "   ----------------------------- ---------- 91.4/124.9 MB 2.5 MB/s eta 0:00:14\n",
      "   ----------------------------- ---------- 91.6/124.9 MB 2.5 MB/s eta 0:00:14\n",
      "   ----------------------------- ---------- 91.6/124.9 MB 2.5 MB/s eta 0:00:14\n",
      "   ----------------------------- ---------- 91.9/124.9 MB 2.5 MB/s eta 0:00:14\n",
      "   ----------------------------- ---------- 92.0/124.9 MB 2.5 MB/s eta 0:00:14\n",
      "   ----------------------------- ---------- 92.2/124.9 MB 2.5 MB/s eta 0:00:14\n",
      "   ----------------------------- ---------- 92.4/124.9 MB 2.5 MB/s eta 0:00:14\n",
      "   ----------------------------- ---------- 92.5/124.9 MB 2.5 MB/s eta 0:00:14\n",
      "   ----------------------------- ---------- 92.6/124.9 MB 2.5 MB/s eta 0:00:14\n",
      "   ----------------------------- ---------- 92.7/124.9 MB 2.5 MB/s eta 0:00:14\n",
      "   ----------------------------- ---------- 92.9/124.9 MB 2.5 MB/s eta 0:00:14\n",
      "   ----------------------------- ---------- 93.1/124.9 MB 2.5 MB/s eta 0:00:13\n",
      "   ----------------------------- ---------- 93.2/124.9 MB 2.5 MB/s eta 0:00:13\n",
      "   ----------------------------- ---------- 93.2/124.9 MB 2.5 MB/s eta 0:00:13\n",
      "   ----------------------------- ---------- 93.2/124.9 MB 2.5 MB/s eta 0:00:13\n",
      "   ----------------------------- ---------- 93.4/124.9 MB 2.5 MB/s eta 0:00:13\n",
      "   ----------------------------- ---------- 93.5/124.9 MB 2.5 MB/s eta 0:00:13\n",
      "   ----------------------------- ---------- 93.5/124.9 MB 2.5 MB/s eta 0:00:13\n",
      "   ----------------------------- ---------- 93.5/124.9 MB 2.5 MB/s eta 0:00:13\n",
      "   ----------------------------- ---------- 93.5/124.9 MB 2.4 MB/s eta 0:00:14\n",
      "   ----------------------------- ---------- 93.6/124.9 MB 2.4 MB/s eta 0:00:13\n",
      "   ------------------------------ --------- 93.7/124.9 MB 2.4 MB/s eta 0:00:13\n",
      "   ------------------------------ --------- 93.8/124.9 MB 2.5 MB/s eta 0:00:13\n",
      "   ------------------------------ --------- 94.0/124.9 MB 2.5 MB/s eta 0:00:13\n",
      "   ------------------------------ --------- 94.1/124.9 MB 2.5 MB/s eta 0:00:13\n",
      "   ------------------------------ --------- 94.3/124.9 MB 2.5 MB/s eta 0:00:13\n",
      "   ------------------------------ --------- 94.4/124.9 MB 2.5 MB/s eta 0:00:13\n",
      "   ------------------------------ --------- 94.6/124.9 MB 2.5 MB/s eta 0:00:13\n",
      "   ------------------------------ --------- 94.6/124.9 MB 2.5 MB/s eta 0:00:13\n",
      "   ------------------------------ --------- 94.6/124.9 MB 2.5 MB/s eta 0:00:13\n",
      "   ------------------------------ --------- 94.6/124.9 MB 2.5 MB/s eta 0:00:13\n",
      "   ------------------------------ --------- 94.6/124.9 MB 2.5 MB/s eta 0:00:13\n",
      "   ------------------------------ --------- 94.6/124.9 MB 2.5 MB/s eta 0:00:13\n",
      "   ------------------------------ --------- 94.6/124.9 MB 2.5 MB/s eta 0:00:13\n",
      "   ------------------------------ --------- 94.6/124.9 MB 2.5 MB/s eta 0:00:13\n",
      "   ------------------------------ --------- 95.6/124.9 MB 2.7 MB/s eta 0:00:11\n",
      "   ------------------------------ --------- 95.6/124.9 MB 2.6 MB/s eta 0:00:12\n",
      "   ------------------------------ --------- 95.8/124.9 MB 2.7 MB/s eta 0:00:11\n",
      "   ------------------------------ --------- 96.0/124.9 MB 2.7 MB/s eta 0:00:11\n",
      "   ------------------------------ --------- 96.1/124.9 MB 2.7 MB/s eta 0:00:11\n",
      "   ------------------------------ --------- 96.4/124.9 MB 2.8 MB/s eta 0:00:11\n",
      "   ------------------------------ --------- 96.6/124.9 MB 2.8 MB/s eta 0:00:11\n",
      "   ------------------------------ --------- 96.6/124.9 MB 2.8 MB/s eta 0:00:11\n",
      "   ------------------------------ --------- 96.7/124.9 MB 2.7 MB/s eta 0:00:11\n",
      "   ------------------------------- -------- 96.9/124.9 MB 2.8 MB/s eta 0:00:11\n",
      "   ------------------------------- -------- 97.1/124.9 MB 2.9 MB/s eta 0:00:10\n",
      "   ------------------------------- -------- 97.3/124.9 MB 3.0 MB/s eta 0:00:10\n",
      "   ------------------------------- -------- 97.6/124.9 MB 3.0 MB/s eta 0:00:10\n",
      "   ------------------------------- -------- 97.7/124.9 MB 3.0 MB/s eta 0:00:09\n",
      "   ------------------------------- -------- 97.7/124.9 MB 3.0 MB/s eta 0:00:09\n",
      "   ------------------------------- -------- 97.8/124.9 MB 3.0 MB/s eta 0:00:10\n",
      "   ------------------------------- -------- 98.0/124.9 MB 3.0 MB/s eta 0:00:10\n",
      "   ------------------------------- -------- 98.2/124.9 MB 3.0 MB/s eta 0:00:09\n",
      "   ------------------------------- -------- 98.4/124.9 MB 3.0 MB/s eta 0:00:09\n",
      "   ------------------------------- -------- 98.7/124.9 MB 3.0 MB/s eta 0:00:09\n",
      "   ------------------------------- -------- 98.7/124.9 MB 3.0 MB/s eta 0:00:09\n",
      "   ------------------------------- -------- 98.7/124.9 MB 3.0 MB/s eta 0:00:09\n",
      "   ------------------------------- -------- 98.7/124.9 MB 3.0 MB/s eta 0:00:09\n",
      "   ------------------------------- -------- 98.7/124.9 MB 2.9 MB/s eta 0:00:10\n",
      "   ------------------------------- -------- 98.9/124.9 MB 2.9 MB/s eta 0:00:10\n",
      "   ------------------------------- -------- 99.2/124.9 MB 2.9 MB/s eta 0:00:09\n",
      "   ------------------------------- -------- 99.3/124.9 MB 2.9 MB/s eta 0:00:09\n",
      "   ------------------------------- -------- 99.6/124.9 MB 2.9 MB/s eta 0:00:09\n",
      "   ------------------------------- -------- 99.7/124.9 MB 2.9 MB/s eta 0:00:09\n",
      "   ------------------------------- -------- 99.7/124.9 MB 2.9 MB/s eta 0:00:09\n",
      "   ------------------------------- -------- 99.7/124.9 MB 2.8 MB/s eta 0:00:10\n",
      "   ------------------------------- -------- 99.8/124.9 MB 2.9 MB/s eta 0:00:09\n",
      "   -------------------------------- ------- 100.0/124.9 MB 2.8 MB/s eta 0:00:09\n",
      "   -------------------------------- ------- 100.3/124.9 MB 2.8 MB/s eta 0:00:09\n",
      "   -------------------------------- ------- 100.5/124.9 MB 2.8 MB/s eta 0:00:09\n",
      "   -------------------------------- ------- 100.6/124.9 MB 2.8 MB/s eta 0:00:09\n",
      "   -------------------------------- ------- 100.9/124.9 MB 2.8 MB/s eta 0:00:09\n",
      "   -------------------------------- ------- 101.1/124.9 MB 2.9 MB/s eta 0:00:09\n",
      "   -------------------------------- ------- 101.2/124.9 MB 2.9 MB/s eta 0:00:09\n",
      "   -------------------------------- ------- 101.2/124.9 MB 2.9 MB/s eta 0:00:09\n",
      "   -------------------------------- ------- 101.3/124.9 MB 2.8 MB/s eta 0:00:09\n",
      "   -------------------------------- ------- 101.5/124.9 MB 2.8 MB/s eta 0:00:09\n",
      "   -------------------------------- ------- 101.7/124.9 MB 2.8 MB/s eta 0:00:09\n",
      "   -------------------------------- ------- 101.8/124.9 MB 2.9 MB/s eta 0:00:09\n",
      "   -------------------------------- ------- 102.0/124.9 MB 2.9 MB/s eta 0:00:08\n",
      "   -------------------------------- ------- 102.2/124.9 MB 2.9 MB/s eta 0:00:08\n",
      "   -------------------------------- ------- 102.3/124.9 MB 2.9 MB/s eta 0:00:08\n",
      "   -------------------------------- ------- 102.5/124.9 MB 2.9 MB/s eta 0:00:08\n",
      "   -------------------------------- ------- 102.8/124.9 MB 2.9 MB/s eta 0:00:08\n",
      "   -------------------------------- ------- 103.0/124.9 MB 2.9 MB/s eta 0:00:08\n",
      "   --------------------------------- ------ 103.2/124.9 MB 2.9 MB/s eta 0:00:08\n",
      "   --------------------------------- ------ 103.2/124.9 MB 2.9 MB/s eta 0:00:08\n",
      "   --------------------------------- ------ 103.3/124.9 MB 2.9 MB/s eta 0:00:08\n",
      "   --------------------------------- ------ 103.5/124.9 MB 3.0 MB/s eta 0:00:08\n",
      "   --------------------------------- ------ 103.7/124.9 MB 3.1 MB/s eta 0:00:07\n",
      "   --------------------------------- ------ 103.9/124.9 MB 3.1 MB/s eta 0:00:07\n",
      "   --------------------------------- ------ 104.0/124.9 MB 3.2 MB/s eta 0:00:07\n",
      "   --------------------------------- ------ 104.2/124.9 MB 3.2 MB/s eta 0:00:07\n",
      "   --------------------------------- ------ 104.3/124.9 MB 3.2 MB/s eta 0:00:07\n",
      "   --------------------------------- ------ 104.5/124.9 MB 3.2 MB/s eta 0:00:07\n",
      "   --------------------------------- ------ 104.6/124.9 MB 3.2 MB/s eta 0:00:07\n",
      "   --------------------------------- ------ 105.0/124.9 MB 3.6 MB/s eta 0:00:06\n",
      "   --------------------------------- ------ 105.1/124.9 MB 3.6 MB/s eta 0:00:06\n",
      "   --------------------------------- ------ 105.1/124.9 MB 3.6 MB/s eta 0:00:06\n",
      "   --------------------------------- ------ 105.2/124.9 MB 3.4 MB/s eta 0:00:06\n",
      "   --------------------------------- ------ 105.4/124.9 MB 3.4 MB/s eta 0:00:06\n",
      "   --------------------------------- ------ 105.6/124.9 MB 3.3 MB/s eta 0:00:06\n",
      "   --------------------------------- ------ 105.6/124.9 MB 3.3 MB/s eta 0:00:06\n",
      "   --------------------------------- ------ 105.9/124.9 MB 3.3 MB/s eta 0:00:06\n",
      "   --------------------------------- ------ 106.1/124.9 MB 3.3 MB/s eta 0:00:06\n",
      "   ---------------------------------- ----- 106.4/124.9 MB 3.3 MB/s eta 0:00:06\n",
      "   ---------------------------------- ----- 106.7/124.9 MB 3.3 MB/s eta 0:00:06\n",
      "   ---------------------------------- ----- 107.1/124.9 MB 3.5 MB/s eta 0:00:06\n",
      "   ---------------------------------- ----- 107.1/124.9 MB 3.5 MB/s eta 0:00:06\n",
      "   ---------------------------------- ----- 107.1/124.9 MB 3.5 MB/s eta 0:00:06\n",
      "   ---------------------------------- ----- 107.4/124.9 MB 3.4 MB/s eta 0:00:06\n",
      "   ---------------------------------- ----- 107.6/124.9 MB 3.4 MB/s eta 0:00:06\n",
      "   ---------------------------------- ----- 107.8/124.9 MB 3.4 MB/s eta 0:00:06\n",
      "   ---------------------------------- ----- 108.2/124.9 MB 3.6 MB/s eta 0:00:05\n",
      "   ---------------------------------- ----- 108.2/124.9 MB 3.5 MB/s eta 0:00:05\n",
      "   ---------------------------------- ----- 108.2/124.9 MB 3.5 MB/s eta 0:00:05\n",
      "   ---------------------------------- ----- 108.5/124.9 MB 3.4 MB/s eta 0:00:05\n",
      "   ---------------------------------- ----- 108.6/124.9 MB 3.4 MB/s eta 0:00:05\n",
      "   ---------------------------------- ----- 109.1/124.9 MB 3.7 MB/s eta 0:00:05\n",
      "   ----------------------------------- ---- 109.4/124.9 MB 3.7 MB/s eta 0:00:05\n",
      "   ----------------------------------- ---- 109.4/124.9 MB 3.7 MB/s eta 0:00:05\n",
      "   ----------------------------------- ---- 109.4/124.9 MB 3.7 MB/s eta 0:00:05\n",
      "   ----------------------------------- ---- 109.7/124.9 MB 3.7 MB/s eta 0:00:05\n",
      "   ----------------------------------- ---- 110.1/124.9 MB 3.9 MB/s eta 0:00:04\n",
      "   ----------------------------------- ---- 110.5/124.9 MB 3.9 MB/s eta 0:00:04\n",
      "   ----------------------------------- ---- 110.8/124.9 MB 4.0 MB/s eta 0:00:04\n",
      "   ----------------------------------- ---- 110.8/124.9 MB 4.0 MB/s eta 0:00:04\n",
      "   ----------------------------------- ---- 111.2/124.9 MB 4.0 MB/s eta 0:00:04\n",
      "   ----------------------------------- ---- 111.6/124.9 MB 4.2 MB/s eta 0:00:04\n",
      "   ----------------------------------- ---- 112.1/124.9 MB 4.4 MB/s eta 0:00:03\n",
      "   ----------------------------------- ---- 112.3/124.9 MB 4.4 MB/s eta 0:00:03\n",
      "   ----------------------------------- ---- 112.3/124.9 MB 4.4 MB/s eta 0:00:03\n",
      "   ----------------------------------- ---- 112.4/124.9 MB 4.2 MB/s eta 0:00:03\n",
      "   ------------------------------------ --- 112.7/124.9 MB 4.3 MB/s eta 0:00:03\n",
      "   ------------------------------------ --- 113.1/124.9 MB 4.4 MB/s eta 0:00:03\n",
      "   ------------------------------------ --- 113.3/124.9 MB 4.4 MB/s eta 0:00:03\n",
      "   ------------------------------------ --- 113.5/124.9 MB 4.6 MB/s eta 0:00:03\n",
      "   ------------------------------------ --- 113.6/124.9 MB 4.4 MB/s eta 0:00:03\n",
      "   ------------------------------------ --- 113.9/124.9 MB 4.5 MB/s eta 0:00:03\n",
      "   ------------------------------------ --- 114.5/124.9 MB 4.7 MB/s eta 0:00:03\n",
      "   ------------------------------------ --- 114.8/124.9 MB 4.9 MB/s eta 0:00:03\n",
      "   ------------------------------------ --- 114.8/124.9 MB 4.9 MB/s eta 0:00:03\n",
      "   ------------------------------------ --- 114.8/124.9 MB 4.9 MB/s eta 0:00:03\n",
      "   ------------------------------------ --- 114.8/124.9 MB 4.6 MB/s eta 0:00:03\n",
      "   ------------------------------------ --- 115.3/124.9 MB 4.8 MB/s eta 0:00:02\n",
      "   ------------------------------------ --- 115.5/124.9 MB 4.9 MB/s eta 0:00:02\n",
      "   ------------------------------------- -- 116.0/124.9 MB 5.1 MB/s eta 0:00:02\n",
      "   ------------------------------------- -- 116.2/124.9 MB 5.2 MB/s eta 0:00:02\n",
      "   ------------------------------------- -- 116.7/124.9 MB 5.2 MB/s eta 0:00:02\n",
      "   ------------------------------------- -- 116.9/124.9 MB 5.2 MB/s eta 0:00:02\n",
      "   ------------------------------------- -- 116.9/124.9 MB 5.1 MB/s eta 0:00:02\n",
      "   ------------------------------------- -- 116.9/124.9 MB 5.0 MB/s eta 0:00:02\n",
      "   ------------------------------------- -- 117.2/124.9 MB 5.0 MB/s eta 0:00:02\n",
      "   ------------------------------------- -- 117.4/124.9 MB 5.0 MB/s eta 0:00:02\n",
      "   ------------------------------------- -- 117.5/124.9 MB 5.0 MB/s eta 0:00:02\n",
      "   ------------------------------------- -- 117.6/124.9 MB 5.0 MB/s eta 0:00:02\n",
      "   ------------------------------------- -- 117.7/124.9 MB 4.9 MB/s eta 0:00:02\n",
      "   ------------------------------------- -- 117.9/124.9 MB 4.8 MB/s eta 0:00:02\n",
      "   ------------------------------------- -- 117.9/124.9 MB 4.8 MB/s eta 0:00:02\n",
      "   ------------------------------------- -- 118.0/124.9 MB 4.6 MB/s eta 0:00:02\n",
      "   ------------------------------------- -- 118.1/124.9 MB 4.6 MB/s eta 0:00:02\n",
      "   ------------------------------------- -- 118.2/124.9 MB 4.5 MB/s eta 0:00:02\n",
      "   ------------------------------------- -- 118.3/124.9 MB 4.5 MB/s eta 0:00:02\n",
      "   ------------------------------------- -- 118.4/124.9 MB 4.4 MB/s eta 0:00:02\n",
      "   ------------------------------------- -- 118.5/124.9 MB 4.5 MB/s eta 0:00:02\n",
      "   ------------------------------------- -- 118.6/124.9 MB 4.5 MB/s eta 0:00:02\n",
      "   -------------------------------------- - 118.7/124.9 MB 4.5 MB/s eta 0:00:02\n",
      "   -------------------------------------- - 118.8/124.9 MB 4.4 MB/s eta 0:00:02\n",
      "   -------------------------------------- - 119.0/124.9 MB 4.4 MB/s eta 0:00:02\n",
      "   -------------------------------------- - 119.1/124.9 MB 4.3 MB/s eta 0:00:02\n",
      "   -------------------------------------- - 119.4/124.9 MB 4.3 MB/s eta 0:00:02\n",
      "   -------------------------------------- - 119.4/124.9 MB 4.2 MB/s eta 0:00:02\n",
      "   -------------------------------------- - 119.6/124.9 MB 4.2 MB/s eta 0:00:02\n",
      "   -------------------------------------- - 119.7/124.9 MB 4.3 MB/s eta 0:00:02\n",
      "   -------------------------------------- - 119.7/124.9 MB 4.3 MB/s eta 0:00:02\n",
      "   -------------------------------------- - 119.8/124.9 MB 4.2 MB/s eta 0:00:02\n",
      "   -------------------------------------- - 119.8/124.9 MB 4.2 MB/s eta 0:00:02\n",
      "   -------------------------------------- - 119.8/124.9 MB 4.2 MB/s eta 0:00:02\n",
      "   -------------------------------------- - 119.8/124.9 MB 4.2 MB/s eta 0:00:02\n",
      "   -------------------------------------- - 119.8/124.9 MB 4.2 MB/s eta 0:00:02\n",
      "   -------------------------------------- - 119.8/124.9 MB 3.8 MB/s eta 0:00:02\n",
      "   -------------------------------------- - 119.8/124.9 MB 3.8 MB/s eta 0:00:02\n",
      "   -------------------------------------- - 119.9/124.9 MB 3.7 MB/s eta 0:00:02\n",
      "   -------------------------------------- - 119.9/124.9 MB 3.6 MB/s eta 0:00:02\n",
      "   -------------------------------------- - 120.0/124.9 MB 3.6 MB/s eta 0:00:02\n",
      "   -------------------------------------- - 120.0/124.9 MB 3.6 MB/s eta 0:00:02\n",
      "   -------------------------------------- - 120.0/124.9 MB 3.6 MB/s eta 0:00:02\n",
      "   -------------------------------------- - 120.0/124.9 MB 3.6 MB/s eta 0:00:02\n",
      "   -------------------------------------- - 120.1/124.9 MB 3.3 MB/s eta 0:00:02\n",
      "   -------------------------------------- - 120.2/124.9 MB 3.3 MB/s eta 0:00:02\n",
      "   -------------------------------------- - 120.2/124.9 MB 3.3 MB/s eta 0:00:02\n",
      "   -------------------------------------- - 120.3/124.9 MB 3.2 MB/s eta 0:00:02\n",
      "   -------------------------------------- - 120.4/124.9 MB 3.2 MB/s eta 0:00:02\n",
      "   -------------------------------------- - 120.5/124.9 MB 3.2 MB/s eta 0:00:02\n",
      "   -------------------------------------- - 120.6/124.9 MB 3.1 MB/s eta 0:00:02\n",
      "   -------------------------------------- - 120.7/124.9 MB 3.1 MB/s eta 0:00:02\n",
      "   -------------------------------------- - 120.8/124.9 MB 3.1 MB/s eta 0:00:02\n",
      "   -------------------------------------- - 120.9/124.9 MB 3.1 MB/s eta 0:00:02\n",
      "   -------------------------------------- - 121.1/124.9 MB 3.1 MB/s eta 0:00:02\n",
      "   -------------------------------------- - 121.2/124.9 MB 3.0 MB/s eta 0:00:02\n",
      "   -------------------------------------- - 121.3/124.9 MB 3.0 MB/s eta 0:00:02\n",
      "   -------------------------------------- - 121.4/124.9 MB 3.0 MB/s eta 0:00:02\n",
      "   -------------------------------------- - 121.5/124.9 MB 2.9 MB/s eta 0:00:02\n",
      "   -------------------------------------- - 121.6/124.9 MB 2.9 MB/s eta 0:00:02\n",
      "   -------------------------------------- - 121.7/124.9 MB 2.9 MB/s eta 0:00:02\n",
      "   ---------------------------------------  121.8/124.9 MB 2.8 MB/s eta 0:00:02\n",
      "   ---------------------------------------  121.9/124.9 MB 2.8 MB/s eta 0:00:02\n",
      "   ---------------------------------------  122.1/124.9 MB 2.8 MB/s eta 0:00:02\n",
      "   ---------------------------------------  122.2/124.9 MB 2.8 MB/s eta 0:00:01\n",
      "   ---------------------------------------  122.3/124.9 MB 2.8 MB/s eta 0:00:01\n",
      "   ---------------------------------------  122.4/124.9 MB 2.7 MB/s eta 0:00:01\n",
      "   ---------------------------------------  122.5/124.9 MB 2.7 MB/s eta 0:00:01\n",
      "   ---------------------------------------  122.6/124.9 MB 2.8 MB/s eta 0:00:01\n",
      "   ---------------------------------------  122.7/124.9 MB 2.7 MB/s eta 0:00:01\n",
      "   ---------------------------------------  122.8/124.9 MB 2.7 MB/s eta 0:00:01\n",
      "   ---------------------------------------  122.9/124.9 MB 2.7 MB/s eta 0:00:01\n",
      "   ---------------------------------------  122.9/124.9 MB 2.7 MB/s eta 0:00:01\n",
      "   ---------------------------------------  122.9/124.9 MB 2.7 MB/s eta 0:00:01\n",
      "   ---------------------------------------  122.9/124.9 MB 2.6 MB/s eta 0:00:01\n",
      "   ---------------------------------------  123.1/124.9 MB 2.6 MB/s eta 0:00:01\n",
      "   ---------------------------------------  123.2/124.9 MB 2.5 MB/s eta 0:00:01\n",
      "   ---------------------------------------  123.3/124.9 MB 2.5 MB/s eta 0:00:01\n",
      "   ---------------------------------------  123.5/124.9 MB 2.5 MB/s eta 0:00:01\n",
      "   ---------------------------------------  123.5/124.9 MB 2.5 MB/s eta 0:00:01\n",
      "   ---------------------------------------  123.5/124.9 MB 2.5 MB/s eta 0:00:01\n",
      "   ---------------------------------------  123.6/124.9 MB 2.5 MB/s eta 0:00:01\n",
      "   ---------------------------------------  123.7/124.9 MB 2.4 MB/s eta 0:00:01\n",
      "   ---------------------------------------  123.8/124.9 MB 2.4 MB/s eta 0:00:01\n",
      "   ---------------------------------------  123.9/124.9 MB 2.4 MB/s eta 0:00:01\n",
      "   ---------------------------------------  124.1/124.9 MB 2.4 MB/s eta 0:00:01\n",
      "   ---------------------------------------  124.2/124.9 MB 2.4 MB/s eta 0:00:01\n",
      "   ---------------------------------------  124.3/124.9 MB 2.4 MB/s eta 0:00:01\n",
      "   ---------------------------------------  124.4/124.9 MB 2.4 MB/s eta 0:00:01\n",
      "   ---------------------------------------  124.5/124.9 MB 2.3 MB/s eta 0:00:01\n",
      "   ---------------------------------------  124.7/124.9 MB 2.3 MB/s eta 0:00:01\n",
      "   ---------------------------------------  124.8/124.9 MB 2.3 MB/s eta 0:00:01\n",
      "   ---------------------------------------  124.9/124.9 MB 2.3 MB/s eta 0:00:01\n",
      "   ---------------------------------------  124.9/124.9 MB 2.3 MB/s eta 0:00:01\n",
      "   ---------------------------------------  124.9/124.9 MB 2.3 MB/s eta 0:00:01\n",
      "   ---------------------------------------  124.9/124.9 MB 2.3 MB/s eta 0:00:01\n",
      "   ---------------------------------------- 124.9/124.9 MB 2.2 MB/s eta 0:00:00\n",
      "Installing collected packages: xgboost\n",
      "Successfully installed xgboost-2.1.3\n"
     ]
    }
   ],
   "source": [
    "! pip install xgboost"
   ]
  },
  {
   "cell_type": "code",
   "execution_count": 32,
   "id": "d7c80bbebefe27e4",
   "metadata": {
    "ExecuteTime": {
     "end_time": "2024-12-24T03:01:11.054332Z",
     "start_time": "2024-12-24T03:01:09.744422Z"
    },
    "collapsed": false
   },
   "outputs": [
    {
     "name": "stdout",
     "output_type": "stream",
     "text": [
      "XGBoost分类报告：\n",
      "              precision    recall  f1-score   support\n",
      "\n",
      "           0       1.00      0.91      0.95        32\n",
      "           1       0.90      1.00      0.95        28\n",
      "\n",
      "    accuracy                           0.95        60\n",
      "   macro avg       0.95      0.95      0.95        60\n",
      "weighted avg       0.95      0.95      0.95        60\n",
      "\n"
     ]
    },
    {
     "name": "stderr",
     "output_type": "stream",
     "text": [
      "d:\\software_final\\anaconda\\Lib\\site-packages\\xgboost\\core.py:158: UserWarning: [16:51:37] WARNING: C:\\buildkite-agent\\builds\\buildkite-windows-cpu-autoscaling-group-i-0c55ff5f71b100e98-1\\xgboost\\xgboost-ci-windows\\src\\learner.cc:740: \n",
      "Parameters: { \"use_label_encoder\" } are not used.\n",
      "\n",
      "  warnings.warn(smsg, UserWarning)\n"
     ]
    }
   ],
   "source": [
    "from xgboost import XGBClassifier\n",
    "from sklearn.metrics import classification_report\n",
    "\n",
    "# XGBoost模型\n",
    "xgb_clf = XGBClassifier(\n",
    "    n_estimators=100,        # 树的数量\n",
    "    max_depth=6,             # 树的最大深度\n",
    "    learning_rate=0.1,       # 学习率\n",
    "    use_label_encoder=False, # 禁用标签编码（新版本需求）\n",
    "    eval_metric='logloss',   # 评价指标\n",
    "    random_state=42\n",
    ")\n",
    "\n",
    "# 训练模型\n",
    "xgb_clf.fit(X_train, y_train)\n",
    "\n",
    "# 预测\n",
    "xgb_pred = xgb_clf.predict(X_test)\n",
    "\n",
    "# 输出分类报告\n",
    "print(\"XGBoost分类报告：\")\n",
    "print(classification_report(y_test, xgb_pred))\n"
   ]
  },
  {
   "cell_type": "markdown",
   "id": "4db5603b",
   "metadata": {},
   "source": [
    "*XGBoost was chosen for its high adaptability to complex features and excellent classification performance.*"
   ]
  },
  {
   "cell_type": "markdown",
   "id": "af95708203eff2e8",
   "metadata": {
    "collapsed": false
   },
   "source": [
    "# 6.4 Model merging\n",
    "By combining KNN and XGBoost, fusion is carried out through hard majority voting."
   ]
  },
  {
   "cell_type": "code",
   "execution_count": 33,
   "id": "5b2eb5a2b917c240",
   "metadata": {
    "ExecuteTime": {
     "end_time": "2024-12-24T03:01:34.634674Z",
     "start_time": "2024-12-24T03:01:34.541161Z"
    },
    "collapsed": false
   },
   "outputs": [
    {
     "name": "stdout",
     "output_type": "stream",
     "text": [
      "融合模型分类报告：\n",
      "              precision    recall  f1-score   support\n",
      "\n",
      "           0       0.82      1.00      0.90        32\n",
      "           1       1.00      0.75      0.86        28\n",
      "\n",
      "    accuracy                           0.88        60\n",
      "   macro avg       0.91      0.88      0.88        60\n",
      "weighted avg       0.90      0.88      0.88        60\n",
      "\n"
     ]
    },
    {
     "name": "stderr",
     "output_type": "stream",
     "text": [
      "d:\\software_final\\anaconda\\Lib\\site-packages\\xgboost\\core.py:158: UserWarning: [16:51:46] WARNING: C:\\buildkite-agent\\builds\\buildkite-windows-cpu-autoscaling-group-i-0c55ff5f71b100e98-1\\xgboost\\xgboost-ci-windows\\src\\learner.cc:740: \n",
      "Parameters: { \"use_label_encoder\" } are not used.\n",
      "\n",
      "  warnings.warn(smsg, UserWarning)\n"
     ]
    }
   ],
   "source": [
    "from sklearn.ensemble import VotingClassifier\n",
    "\n",
    "# 定义融合模型\n",
    "voting_clf = VotingClassifier(\n",
    "    estimators=[\n",
    "        ('knn', knn_clf),\n",
    "        ('xgb', xgb_clf)\n",
    "    ],\n",
    "    voting='hard'  # 硬投票\n",
    ")\n",
    "\n",
    "# 训练融合模型\n",
    "voting_clf.fit(X_train, y_train)\n",
    "\n",
    "# 预测\n",
    "voting_pred = voting_clf.predict(X_test)\n",
    "\n",
    "# 输出分类报告\n",
    "print(\"融合模型分类报告：\")\n",
    "print(classification_report(y_test, voting_pred))\n"
   ]
  },
  {
   "cell_type": "markdown",
   "id": "e7df5e01",
   "metadata": {},
   "source": [
    "## 6.5 results"
   ]
  },
  {
   "cell_type": "markdown",
   "id": "639ca6a3",
   "metadata": {},
   "source": [
    "# After comparing 4 different models, the ranking is as follows:\n",
    "1. XGBoost+KNN\n",
    "2. XGBoost\n",
    "3. Knn\n",
    "4. Logistic Regression"
   ]
  },
  {
   "cell_type": "markdown",
   "id": "a89c3c3aa108f98e",
   "metadata": {
    "collapsed": false
   },
   "source": [
    "\n",
    "Accuracy: 95%\n",
    "XGBoost performs very well, with high accuracy and recall rates for both classes.\n",
    "The F1-score for both categories 0 and 1 reached 0.95.\n",
    "This is the best single model available.\n",
    "Fusion model\n",
    "Accuracy: 88%\n",
    "It performed slightly worse than the XGBoost model alone.\n",
    "The recall rate for category 0 reached 1.00 (fully recognized), but the recall rate for category 1 dropped to 0.75.\n",
    "Accuracy and recall are less balanced than XGBoost."
   ]
  },
  {
   "cell_type": "markdown",
   "id": "c3716ce226a21072",
   "metadata": {
    "collapsed": false
   },
   "source": [
    "# Save the final model"
   ]
  },
  {
   "cell_type": "code",
   "execution_count": 34,
   "metadata": {},
   "outputs": [
    {
     "name": "stderr",
     "output_type": "stream",
     "text": [
      "Extracting features: 100%|██████████| 100/100 [00:32<00:00,  3.08it/s]"
     ]
    },
    {
     "name": "stdout",
     "output_type": "stream",
     "text": [
      "特征提取完成，保存到 audio_features.csv\n"
     ]
    },
    {
     "name": "stderr",
     "output_type": "stream",
     "text": [
      "\n"
     ]
    }
   ],
   "source": [
    "import librosa\n",
    "import numpy as np\n",
    "from tqdm import tqdm\n",
    "\n",
    "# 定义特征提取函数\n",
    "def extract_features(file_path):\n",
    "    try:\n",
    "        audio, sr = librosa.load(file_path, sr=None)  # 加载音频\n",
    "        mfcc = librosa.feature.mfcc(y=audio, sr=sr, n_mfcc=13)  # 提取MFCC特征\n",
    "        mfcc_mean = np.mean(mfcc, axis=1)  # 平均值作为最终特征\n",
    "        return mfcc_mean\n",
    "    except Exception as e:\n",
    "        print(f\"Error processing {file_path}: {e}\")\n",
    "        return None\n",
    "\n",
    "# 提取所有音频文件的特征\n",
    "features = []\n",
    "for filename in tqdm(data['filename'], desc=\"Extracting features\"):\n",
    "    file_path = os.path.join(audio_path, filename)\n",
    "    features.append(extract_features(file_path))\n",
    "\n",
    "# 将特征转为DataFrame\n",
    "features_df = pd.DataFrame(features)\n",
    "features_df.columns = [f'mfcc_{i+1}' for i in range(features_df.shape[1])]\n",
    "\n",
    "# 合并特征和标签\n",
    "data_with_features = pd.concat([data.reset_index(drop=True), features_df], axis=1)\n",
    "\n",
    "# 保存提取的特征数据\n",
    "data_with_features.to_csv(\"audio_features.csv\", index=False)\n",
    "\n",
    "print(\"特征提取完成，保存到 audio_features.csv\")\n"
   ]
  },
  {
   "cell_type": "code",
   "execution_count": 35,
   "id": "1de983165f2f49d2",
   "metadata": {
    "ExecuteTime": {
     "end_time": "2024-12-24T03:03:53.129038Z",
     "start_time": "2024-12-24T03:03:53.107442Z"
    },
    "collapsed": false
   },
   "outputs": [
    {
     "name": "stdout",
     "output_type": "stream",
     "text": [
      "XGBoost模型已保存为 xgboost_model.pkl\n"
     ]
    }
   ],
   "source": [
    "import joblib\n",
    "\n",
    "# 保存XGBoost模型\n",
    "joblib.dump(xgb_clf, \"xgboost_model.pkl\")\n",
    "print(\"XGBoost模型已保存为 xgboost_model.pkl\")"
   ]
  },
  {
   "cell_type": "code",
   "execution_count": 36,
   "id": "c16df2ea7d301330",
   "metadata": {
    "ExecuteTime": {
     "end_time": "2024-12-24T03:18:41.587960Z",
     "start_time": "2024-12-24T03:18:41.579828Z"
    },
    "collapsed": false
   },
   "outputs": [
    {
     "name": "stdout",
     "output_type": "stream",
     "text": [
      "重新预测后 y_pred 大小: 60\n"
     ]
    }
   ],
   "source": [
    "# 确保使用完整的测试集进行预测\n",
    "y_pred = xgb_clf.predict(X_test)\n",
    "\n",
    "# 检查预测结果维度\n",
    "print(\"重新预测后 y_pred 大小:\", len(y_pred))\n"
   ]
  },
  {
   "cell_type": "markdown",
   "id": "942af3f1",
   "metadata": {},
   "source": [
    "## 6.6 Analysis"
   ]
  },
  {
   "cell_type": "markdown",
   "id": "a24c96732338d120",
   "metadata": {
    "collapsed": false
   },
   "source": [
    "# confusion matrix"
   ]
  },
  {
   "cell_type": "code",
   "execution_count": 37,
   "id": "be5c95ee6cb73725",
   "metadata": {
    "ExecuteTime": {
     "end_time": "2024-12-24T03:20:59.945709Z",
     "start_time": "2024-12-24T03:20:59.803888Z"
    },
    "collapsed": false
   },
   "outputs": [
    {
     "data": {
      "image/png": "[encoded data removed]",
      "text/plain": [
       "<Figure size 640x480 with 2 Axes>"
      ]
     },
     "metadata": {},
     "output_type": "display_data"
    }
   ],
   "source": [
    "from sklearn.metrics import confusion_matrix, ConfusionMatrixDisplay\n",
    "import matplotlib.pyplot as plt\n",
    "from matplotlib import rcParams\n",
    "\n",
    "# 设置全局字体\n",
    "rcParams['font.sans-serif'] = ['SimHei']  # 使用黑体字体\n",
    "rcParams['axes.unicode_minus'] = False  # 解决负号显示问题\n",
    "# 计算混淆矩阵\n",
    "cm = confusion_matrix(y_test, y_pred)\n",
    "\n",
    "# 绘制混淆矩阵\n",
    "disp = ConfusionMatrixDisplay(confusion_matrix=cm, display_labels=[\"False Story\", \"True Story\"])\n",
    "disp.plot(cmap=plt.cm.Blues)\n",
    "plt.title(\"XGBoost 混淆矩阵\")\n",
    "plt.show()\n"
   ]
  },
  {
   "cell_type": "markdown",
   "id": "91aad96c85af4e7",
   "metadata": {
    "collapsed": false
   },
   "source": [
    "# Classified report"
   ]
  },
  {
   "cell_type": "code",
   "execution_count": 38,
   "id": "e15a8f42ee016285",
   "metadata": {
    "ExecuteTime": {
     "end_time": "2024-12-24T03:23:51.374042Z",
     "start_time": "2024-12-24T03:23:51.358095Z"
    },
    "collapsed": false
   },
   "outputs": [
    {
     "name": "stdout",
     "output_type": "stream",
     "text": [
      "XGBoost分类报告：\n",
      "              precision    recall  f1-score   support\n",
      "\n",
      "           0       1.00      0.91      0.95        32\n",
      "           1       0.90      1.00      0.95        28\n",
      "\n",
      "    accuracy                           0.95        60\n",
      "   macro avg       0.95      0.95      0.95        60\n",
      "weighted avg       0.95      0.95      0.95        60\n",
      "\n"
     ]
    }
   ],
   "source": [
    "from sklearn.metrics import classification_report\n",
    "\n",
    "# 输出分类报告\n",
    "print(\"XGBoost分类报告：\")\n",
    "print(classification_report(y_test, y_pred))\n"
   ]
  },
  {
   "cell_type": "markdown",
   "id": "e7f9a7357f4d3aa7",
   "metadata": {
    "collapsed": false
   },
   "source": [
    "## 1. Classification report analysis\n",
    "From the report:\n",
    "\n",
    "Overall accuracy: 95%\n",
    "The model performs very well on the test set and is almost perfect classification.\n",
    "Category 0 (False Story) :\n",
    "Accuracy: 1.00, indicating that the model predicts that all samples of class 0 are correct.\n",
    "Recall rate: 0.91, indicating that 91% of the samples that actually belonged to class 0 were correctly classified.\n",
    "F1 score: 0.95, indicating a very high classification performance for category 0.\n",
    "Category 1 (True Story) :\n",
    "Accuracy: 0.90, indicating that 90% of the samples predicted as class 1 are correct.\n",
    "Recall rate: 1.00, indicating that all samples that actually belong to Class 1 have been correctly identified.\n",
    "F1 score: 0.95, consistent with category 0.\n",
    "## 2. Summary of model performance\n",
    "Balance: The accuracy and recall rates of the model are high on class 0 and class 1, indicating that the classification performance is very balanced.\n",
    "Error rate: Only 5% of the samples are misclassified, and the characteristics of these error samples can be further analyzed."
   ]
  },
  {
   "cell_type": "markdown",
   "id": "7d2226eb7772c63d",
   "metadata": {
    "collapsed": false
   },
   "source": [
    "# 预测结果分布"
   ]
  },
  {
   "cell_type": "code",
   "execution_count": 39,
   "id": "dd5e12f4effb64bc",
   "metadata": {
    "ExecuteTime": {
     "end_time": "2024-12-24T03:24:55.441681Z",
     "start_time": "2024-12-24T03:24:55.296910Z"
    },
    "collapsed": false
   },
   "outputs": [
    {
     "data": {
      "image/png": "[encoded data removed]",
      "text/plain": [
       "<Figure size 800x600 with 1 Axes>"
      ]
     },
     "metadata": {},
     "output_type": "display_data"
    }
   ],
   "source": [
    "import seaborn as sns\n",
    "import matplotlib.pyplot as plt\n",
    "import pandas as pd\n",
    "\n",
    "# 转换为DataFrame\n",
    "results_df = pd.DataFrame({\n",
    "    'Actual': y_test,\n",
    "    'Predicted': y_pred\n",
    "})\n",
    "\n",
    "# 绘制分布图\n",
    "plt.figure(figsize=(8, 6))\n",
    "sns.countplot(data=results_df, x='Actual', hue='Predicted', palette='viridis')\n",
    "plt.title(\"分类结果分布\")\n",
    "plt.xlabel(\"实际标签\")\n",
    "plt.ylabel(\"数量\")\n",
    "plt.legend(title=\"预测标签\", loc=\"upper right\")\n",
    "plt.show()\n"
   ]
  },
  {
   "cell_type": "markdown",
   "id": "d90a6278f4b78fad",
   "metadata": {
    "collapsed": false
   },
   "source": [
    "## Distribution of actual and predicted labels:\n",
    "\n",
    "Category 0 (False Story) : Most of the sample is predicted correctly, but a small number is misclassified as category 1.\n",
    "Category 1 (True Story) : All samples are correctly classified and perform very well.\n",
    "Model bias:"
   ]
  },
  {
   "cell_type": "markdown",
   "id": "ec32f12329816d88",
   "metadata": {
    "collapsed": false
   },
   "source": [
    "# Feature importance analysis"
   ]
  },
  {
   "cell_type": "code",
   "execution_count": 40,
   "id": "f4a967382b928697",
   "metadata": {
    "ExecuteTime": {
     "end_time": "2024-12-24T03:26:08.307993Z",
     "start_time": "2024-12-24T03:26:08.154807Z"
    },
    "collapsed": false
   },
   "outputs": [
    {
     "data": {
      "image/png": "[encoded data removed]",
      "text/plain": [
       "<Figure size 1000x600 with 1 Axes>"
      ]
     },
     "metadata": {},
     "output_type": "display_data"
    }
   ],
   "source": [
    "import matplotlib.pyplot as plt\n",
    "import numpy as np\n",
    "\n",
    "# 获取特征重要性\n",
    "importance = xgb_clf.feature_importances_\n",
    "feature_names = [f'PCA_{i+1}' for i in range(len(importance))]\n",
    "\n",
    "# 绘制特征重要性\n",
    "plt.figure(figsize=(10, 6))\n",
    "plt.barh(feature_names, importance, color='skyblue')\n",
    "plt.xlabel(\"Importance Score\")\n",
    "plt.ylabel(\"Feature\")\n",
    "plt.title(\"XGBoost 特征重要性\")\n",
    "plt.show()\n"
   ]
  },
  {
   "cell_type": "markdown",
   "id": "aa1d0e01537bc28a",
   "metadata": {
    "collapsed": false
   },
   "source": [
    "## Feature importance analysis\n",
    "The most important features:\n",
    "\n",
    "The importance scores of PCA_10 and PCA_4 are the highest, indicating that they contribute the most to the classification.\n",
    "These principal components may contain the most relevant information for category differentiation.\n",
    "Next important feature:\n",
    "\n",
    "PCA_6, PCA_7 and PCA_9 also have high importance scores, indicating that they contribute more to the model's decision-making aid.\n",
    "Less important features:\n",
    "\n",
    "The low importance of PCA_1 and PCA_2 indicates that they may have little effect on classification, and they can be considered to be removed by further dimensionality reduction in subsequent experiments."
   ]
  },
  {
   "cell_type": "markdown",
   "id": "894ae0e8959ae08a",
   "metadata": {
    "collapsed": false
   },
   "source": [
    "# Error sample analysis"
   ]
  },
  {
   "cell_type": "code",
   "execution_count": 41,
   "id": "6762bf5c9c2063d4",
   "metadata": {
    "ExecuteTime": {
     "end_time": "2024-12-24T03:27:06.976269Z",
     "start_time": "2024-12-24T03:27:06.953444Z"
    },
    "collapsed": false
   },
   "outputs": [
    {
     "name": "stdout",
     "output_type": "stream",
     "text": [
      "预测错误的样本数量: 3\n",
      "部分预测错误的样本：\n",
      "     Actual  Predicted\n",
      "237       0          1\n",
      "238       0          1\n",
      "239       0          1\n"
     ]
    }
   ],
   "source": [
    "# 找出预测错误的样本\n",
    "error_samples = results_df[results_df['Actual'] != results_df['Predicted']]\n",
    "\n",
    "# 显示部分错误样本\n",
    "print(\"预测错误的样本数量:\", len(error_samples))\n",
    "print(\"部分预测错误的样本：\")\n",
    "print(error_samples.head())\n"
   ]
  },
  {
   "cell_type": "markdown",
   "id": "710de12f0385a422",
   "metadata": {
    "collapsed": false
   },
   "source": [
    "## Error analysis\n",
    "Number of error samples:\n",
    "\n",
    "In total, only 3 samples were misclassified, indicating that the model performed very well on the test set, with a misclassification rate of only 5%.\n",
    "Error Category:\n",
    "\n",
    "All three samples have an actual class of 0 (False Story), but are predicted to be 1 (True Story).\n",
    "The model tends to misjudge class 0 as class 1 in some cases.\n",
    "Misclassification characteristics:\n",
    "\n",
    "The error samples are all from class 0, possibly because they are closer to the feature distribution of class 1 in the feature space, or because there is ambiguity in the class boundaries near these points.\n",
    "## Direction of improvement\n",
    "Further analysis of misclassification samples:\n",
    "\n",
    "Check whether the characteristic values of the misclassified samples are significantly different from those of other categories.\n",
    "If the characteristics of misclassified samples are relatively special, the number of samples of this category can be increased to improve the classification performance.\n",
    "Optimized decision boundary:\n",
    "\n",
    "Adjust the hyperparameters of the model (such as max_depth or learning_rate for XGBoost) to make the decision boundaries more precise.\n",
    "Other models, such as support vector machines or neural networks, are introduced for comparative experiments.\n",
    "Data enhancement:\n",
    "\n",
    "Add more samples for class 0, especially those near class boundaries, to reduce misclassification."
   ]
  },
  {
   "cell_type": "code",
   "execution_count": 42,
   "id": "b71d6d5d5cf9da2d",
   "metadata": {
    "ExecuteTime": {
     "end_time": "2024-12-24T03:27:48.951311Z",
     "start_time": "2024-12-24T03:27:48.943340Z"
    },
    "collapsed": false
   },
   "outputs": [
    {
     "name": "stdout",
     "output_type": "stream",
     "text": [
      "预测结果已保存为 final_test_results.csv\n"
     ]
    }
   ],
   "source": [
    "# 保存预测结果\n",
    "results_df.to_csv(\"final_test_results.csv\", index=False)\n",
    "print(\"预测结果已保存为 final_test_results.csv\")\n"
   ]
  },
  {
   "cell_type": "markdown",
   "id": "4facbb00",
   "metadata": {},
   "source": [
    "## 7. Conclusion\n",
    "\n",
    "7.1 Experimental conclusions\n",
    "\n",
    "- The XGBoost model achieved **95%** accuracy, the best performance.\n",
    "- Feature importance analysis shows that PCA_10 and PCA_4 are the main contributing features.\n",
    "\n",
    "### 7.2 Improvement Suggestions\n",
    "\n",
    "1. Increase the sample diversity of category '0' to reduce misclassification.\n",
    "2. Optimize the decision boundary of XGBoost by regularization.\n",
    "3. Optimize feature extraction strategy to enhance differentiation."
   ]
  },
  {
   "cell_type": "markdown",
   "id": "ebd01c28",
   "metadata": {},
   "source": [
    "## 8. Reference\n",
    "\n",
    "\n",
    "1. McFee, B., Elhunny, J.P. et al. (n.d.). *librosa: Audio and Music Signal Analysis in Python*. Available at: [https://librosa.org/doc/latest/index.html](https://librosa.org/doc/latest/index.html) .\n",
    "\n",
    "2. Duraisamy, Z. et al. (2017). 'A Survey on Audio Feature Extraction Techniques for Music Genres Classification', *International Journal of Computer Applications*, 167(8), pp. 1-6..\n",
    "\n",
    "3. Waskom, M. et al. (n.d.). *Seaborn: Statistical Data Visualization*. Available at: [https://seaborn.pydata.org/](https://seaborn.pydata.org/) .\n",
    "\n",
    "4. Wickham, H. and Grolemund, G. (2016). *R for Data Science*. O'Reilly Media.\n",
    "\n",
    "5. Goodfellow, I., Bengio, Y. and Courville, A. (2016). *Deep Learning*. MIT Press.\n",
    "\n",
    "6. Scikit-learn (n.d.). *Scikit-learn: Machine Learning in Python*. Available at: [https://scikit-learn.org/stable/user_guide.html](https://scikit-learn.org/stable/user_guide.html) .\n",
    "\n",
    "7. Cortes, C. and Vapnik, V. (1995). 'Support-Vector Networks', *Machine Learning*, 20(3), pp. 273-297. doi: [insert DOI if available].\n",
    "\n",
    "8. Dietterich, T.G. (2000). 'Ensemble Methods in Machine Learning', in *Multiple Classifier Systems*, 1-15. doi: [insert DOI if available].\n"
   ]
  },
  {
   "cell_type": "markdown",
   "id": "02b79a58",
   "metadata": {},
   "source": []
  }
 ],
 "metadata": {
  "kernelspec": {
   "display_name": "base",
   "language": "python",
   "name": "python3"
  },
  "language_info": {
   "codemirror_mode": {
    "name": "ipython",
    "version": 3
   },
   "file_extension": ".py",
   "mimetype": "text/x-python",
   "name": "python",
   "nbconvert_exporter": "python",
   "pygments_lexer": "ipython3",
   "version": "3.12.4"
  }
 },
 "nbformat": 4,
 "nbformat_minor": 5
}
